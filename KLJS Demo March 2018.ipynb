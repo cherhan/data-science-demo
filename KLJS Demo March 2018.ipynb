{
 "cells": [
  {
   "cell_type": "markdown",
   "metadata": {},
   "source": [
    "The Jupyter notebook is a Galileo notebook style IDE that data scientists use to create and collaborate on projects. Jupyter Notebook was called IPython notebook at the beginning, then extends to combines the creation of rich-text documents (including equations, graphs and videos) with the execution of code in a number of programming languages. \n",
    "\n",
    "IJavascript is a Javascript kernel for the Jupyter notebook. The execution of code is carried out by means of a kernel that implements the Jupyter messaging protocol.\n",
    "\n",
    "The IJavascript kernel executes Javascript code inside a Node.js session. And thus, it behaves as the Node.js REPL does, providing access to the Node.js standard library and to any installed npm modules.\n",
    "\n",
    "There are kernels available for Python, Julia, Ruby, Haskell and many other languages.\n",
    "\n",
    "Here's a sample notebook that makes use of the IJavascript kernel:\n",
    "\n",
    "https://github.com/n-riesco/ijavascript\n",
    "\n",
    "\n",
    "The most proficient and efficient way to test a programming language"
   ]
  },
  {
   "cell_type": "code",
   "execution_count": 1,
   "metadata": {},
   "outputs": [
    {
     "name": "stdout",
     "output_type": "stream",
     "text": [
      "hello world\n"
     ]
    }
   ],
   "source": [
    "console.log('hello world')"
   ]
  },
  {
   "cell_type": "markdown",
   "metadata": {},
   "source": [
    "The IJavascript kernel provides a global object $$ that can be used for notebook communication and display."
   ]
  },
  {
   "cell_type": "code",
   "execution_count": 2,
   "metadata": {},
   "outputs": [
    {
     "data": {
      "text/html": [
       "<b>Hello World</b>"
      ]
     },
     "execution_count": 2,
     "metadata": {},
     "output_type": "execute_result"
    }
   ],
   "source": [
    "$$.html('<b>Hello World</b>')"
   ]
  },
  {
   "cell_type": "markdown",
   "metadata": {},
   "source": [
    "*dstools* is a collection of tools that assist in analyzing and visualizing data using Javascript code inside Jupyter notebooks. Its main features are:\n",
    "\n",
    "- All functions are chainable (jQuery style)\n",
    "- Import csv data files from the web or file system (using csv package)\n",
    "- Statistical analysis using jStat package\n",
    "- Show data as tables within Jupyter notebooks\n",
    "- Visualize data using plotly javascript library within Jupyter notebooks\n",
    "\n",
    "`$ npm install dstools`"
   ]
  },
  {
   "cell_type": "code",
   "execution_count": 3,
   "metadata": {},
   "outputs": [
    {
     "data": {
      "text/html": [
       "Finished loading 1460 rows from house_price.csv"
      ]
     },
     "metadata": {},
     "output_type": "display_data"
    }
   ],
   "source": [
    "ds = require('dstools');\n",
    "train = ds.Collection().loadCSV('house_price.csv')"
   ]
  },
  {
   "cell_type": "code",
   "execution_count": 4,
   "metadata": {},
   "outputs": [
    {
     "data": {
      "text/html": [
       "<div style=\"overflow:scroll\">\n",
       "<style scoped>\n",
       "strong {\n",
       "\tfont-weight: bold;\n",
       "}\n",
       "\n",
       "em {\n",
       "\tfont-style: italic;\n",
       "}\n",
       "\n",
       "table {\n",
       "\tbackground: #f5f5f5;\n",
       "\tborder-collapse: separate;\n",
       "\tbox-shadow: inset 0 1px 0 #fff;\n",
       "\tfont-size: 12px;\n",
       "\tline-height: 24px;\n",
       "\tmargin: 30px auto;\n",
       "\ttext-align: left;\n",
       "\twidth: 800px;\n",
       "}\n",
       "\n",
       "th {\n",
       "\tbackground:  linear-gradient(#777, #444);\n",
       "\tborder-left: 1px solid #555;\n",
       "\tborder-right: 1px solid #777;\n",
       "\tborder-top: 1px solid #555;\n",
       "\tborder-bottom: 1px solid #333;\n",
       "\tbox-shadow: inset 0 1px 0 #999;\n",
       "\tcolor: #fff;\n",
       "  font-weight: bold;\n",
       "\tpadding: 10px 15px;\n",
       "\tposition: relative;\n",
       "\ttext-shadow: 0 1px 0 #000;\n",
       "}\n",
       "th.header-field{\n",
       "\ttext-align: left;\n",
       "}\n",
       "th:after {\n",
       "\tbackground: linear-gradient(rgba(255,255,255,0), rgba(255,255,255,.08));\n",
       "\tcontent: '';\n",
       "\tdisplay: block;\n",
       "\theight: 25%;\n",
       "\tleft: 0;\n",
       "\tmargin: 1px 0 0 0;\n",
       "\tposition: absolute;\n",
       "\ttop: 25%;\n",
       "\twidth: 100%;\n",
       "}\n",
       "\n",
       "th:first-child {\n",
       "\tborder-left: 1px solid #777;\n",
       "\tbox-shadow: inset 1px 1px 0 #999;\n",
       "}\n",
       "\n",
       "th:last-child {\n",
       "\tbox-shadow: inset -1px 1px 0 #999;\n",
       "}\n",
       "\n",
       "td.table-cell {\n",
       "\tborder-right: 1px solid #fff;\n",
       "\tborder-left: 1px solid #e8e8e8;\n",
       "\tborder-top: 1px solid #fff;\n",
       "\tborder-bottom: 1px solid #e8e8e8;\n",
       "\tpadding: 10px 15px;\n",
       "\tposition: relative;\n",
       "\ttransition: all 300ms;\n",
       "\ttext-align:left;\n",
       "}\n",
       "\n",
       "td.table-cell:first-child {\n",
       "\tbox-shadow: inset 1px 0 0 #fff;\n",
       "}\n",
       "\n",
       "td.table-cell:last-child {\n",
       "\tborder-right: 1px solid #e8e8e8;\n",
       "\tbox-shadow: inset -1px 0 0 #fff;\n",
       "}\n",
       "\n",
       "\n",
       "tr:last-of-type td {\n",
       "\tbox-shadow: inset 0 -1px 0 #fff;\n",
       "}\n",
       "\n",
       "tr:last-of-type td:first-child {\n",
       "\tbox-shadow: inset 1px -1px 0 #fff;\n",
       "}\n",
       "\n",
       "tr:last-of-type td:last-child {\n",
       "\tbox-shadow: inset -1px -1px 0 #fff;\n",
       "}\n",
       "th{\n",
       "\twidth:8em;\n",
       "}\n",
       "</style><table><caption>Table View</caption><thead class=\"theader\"><tr><th class=\"header-field\">Id</th><th class=\"header-field\">MSSubClass</th><th class=\"header-field\">MSZoning</th><th class=\"header-field\">LotFrontage</th><th class=\"header-field\">LotArea</th><th class=\"header-field\">Street</th><th class=\"header-field\">Alley</th><th class=\"header-field\">LotShape</th><th class=\"header-field\">LandContour</th><th class=\"header-field\">Utilities</th><th class=\"header-field\">LotConfig</th><th class=\"header-field\">LandSlope</th><th class=\"header-field\">Neighborhood</th><th class=\"header-field\">Condition1</th><th class=\"header-field\">Condition2</th><th class=\"header-field\">BldgType</th><th class=\"header-field\">HouseStyle</th><th class=\"header-field\">OverallQual</th><th class=\"header-field\">OverallCond</th><th class=\"header-field\">YearBuilt</th><th class=\"header-field\">YearRemodAdd</th><th class=\"header-field\">RoofStyle</th><th class=\"header-field\">RoofMatl</th><th class=\"header-field\">Exterior1st</th><th class=\"header-field\">Exterior2nd</th><th class=\"header-field\">MasVnrType</th><th class=\"header-field\">MasVnrArea</th><th class=\"header-field\">ExterQual</th><th class=\"header-field\">ExterCond</th><th class=\"header-field\">Foundation</th><th class=\"header-field\">BsmtQual</th><th class=\"header-field\">BsmtCond</th><th class=\"header-field\">BsmtExposure</th><th class=\"header-field\">BsmtFinType1</th><th class=\"header-field\">BsmtFinSF1</th><th class=\"header-field\">BsmtFinType2</th><th class=\"header-field\">BsmtFinSF2</th><th class=\"header-field\">BsmtUnfSF</th><th class=\"header-field\">TotalBsmtSF</th><th class=\"header-field\">Heating</th><th class=\"header-field\">HeatingQC</th><th class=\"header-field\">CentralAir</th><th class=\"header-field\">Electrical</th><th class=\"header-field\">1stFlrSF</th><th class=\"header-field\">2ndFlrSF</th><th class=\"header-field\">LowQualFinSF</th><th class=\"header-field\">GrLivArea</th><th class=\"header-field\">BsmtFullBath</th><th class=\"header-field\">BsmtHalfBath</th><th class=\"header-field\">FullBath</th><th class=\"header-field\">HalfBath</th><th class=\"header-field\">BedroomAbvGr</th><th class=\"header-field\">KitchenAbvGr</th><th class=\"header-field\">KitchenQual</th><th class=\"header-field\">TotRmsAbvGrd</th><th class=\"header-field\">Functional</th><th class=\"header-field\">Fireplaces</th><th class=\"header-field\">FireplaceQu</th><th class=\"header-field\">GarageType</th><th class=\"header-field\">GarageYrBlt</th><th class=\"header-field\">GarageFinish</th><th class=\"header-field\">GarageCars</th><th class=\"header-field\">GarageArea</th><th class=\"header-field\">GarageQual</th><th class=\"header-field\">GarageCond</th><th class=\"header-field\">PavedDrive</th><th class=\"header-field\">WoodDeckSF</th><th class=\"header-field\">OpenPorchSF</th><th class=\"header-field\">EnclosedPorch</th><th class=\"header-field\">3SsnPorch</th><th class=\"header-field\">ScreenPorch</th><th class=\"header-field\">PoolArea</th><th class=\"header-field\">PoolQC</th><th class=\"header-field\">Fence</th><th class=\"header-field\">MiscFeature</th><th class=\"header-field\">MiscVal</th><th class=\"header-field\">MoSold</th><th class=\"header-field\">YrSold</th><th class=\"header-field\">SaleType</th><th class=\"header-field\">SaleCondition</th><th class=\"header-field\">SalePrice</th></tr></thead><tbody><tr class=\"table-row\"><td class=\"table-cell\">1</td><td class=\"table-cell\">60</td><td class=\"table-cell\">RL</td><td class=\"table-cell\">65</td><td class=\"table-cell\">8450</td><td class=\"table-cell\">Pave</td><td class=\"table-cell\">NA</td><td class=\"table-cell\">Reg</td><td class=\"table-cell\">Lvl</td><td class=\"table-cell\">AllPub</td><td class=\"table-cell\">Inside</td><td class=\"table-cell\">Gtl</td><td class=\"table-cell\">CollgCr</td><td class=\"table-cell\">Norm</td><td class=\"table-cell\">Norm</td><td class=\"table-cell\">1Fam</td><td class=\"table-cell\">2Story</td><td class=\"table-cell\">7</td><td class=\"table-cell\">5</td><td class=\"table-cell\">2003</td><td class=\"table-cell\">2003</td><td class=\"table-cell\">Gable</td><td class=\"table-cell\">CompShg</td><td class=\"table-cell\">VinylSd</td><td class=\"table-cell\">VinylSd</td><td class=\"table-cell\">BrkFace</td><td class=\"table-cell\">196</td><td class=\"table-cell\">Gd</td><td class=\"table-cell\">TA</td><td class=\"table-cell\">PConc</td><td class=\"table-cell\">Gd</td><td class=\"table-cell\">TA</td><td class=\"table-cell\">No</td><td class=\"table-cell\">GLQ</td><td class=\"table-cell\">706</td><td class=\"table-cell\">Unf</td><td class=\"table-cell\">0</td><td class=\"table-cell\">150</td><td class=\"table-cell\">856</td><td class=\"table-cell\">GasA</td><td class=\"table-cell\">Ex</td><td class=\"table-cell\">Y</td><td class=\"table-cell\">SBrkr</td><td class=\"table-cell\">856</td><td class=\"table-cell\">854</td><td class=\"table-cell\">0</td><td class=\"table-cell\">1710</td><td class=\"table-cell\">1</td><td class=\"table-cell\">0</td><td class=\"table-cell\">2</td><td class=\"table-cell\">1</td><td class=\"table-cell\">3</td><td class=\"table-cell\">1</td><td class=\"table-cell\">Gd</td><td class=\"table-cell\">8</td><td class=\"table-cell\">Typ</td><td class=\"table-cell\">0</td><td class=\"table-cell\">NA</td><td class=\"table-cell\">Attchd</td><td class=\"table-cell\">2003</td><td class=\"table-cell\">RFn</td><td class=\"table-cell\">2</td><td class=\"table-cell\">548</td><td class=\"table-cell\">TA</td><td class=\"table-cell\">TA</td><td class=\"table-cell\">Y</td><td class=\"table-cell\">0</td><td class=\"table-cell\">61</td><td class=\"table-cell\">0</td><td class=\"table-cell\">0</td><td class=\"table-cell\">0</td><td class=\"table-cell\">0</td><td class=\"table-cell\">NA</td><td class=\"table-cell\">NA</td><td class=\"table-cell\">NA</td><td class=\"table-cell\">0</td><td class=\"table-cell\">2</td><td class=\"table-cell\">2008</td><td class=\"table-cell\">WD</td><td class=\"table-cell\">Normal</td><td class=\"table-cell\">208500</td></tr><tr class=\"table-row\"><td class=\"table-cell\">2</td><td class=\"table-cell\">20</td><td class=\"table-cell\">RL</td><td class=\"table-cell\">80</td><td class=\"table-cell\">9600</td><td class=\"table-cell\">Pave</td><td class=\"table-cell\">NA</td><td class=\"table-cell\">Reg</td><td class=\"table-cell\">Lvl</td><td class=\"table-cell\">AllPub</td><td class=\"table-cell\">FR2</td><td class=\"table-cell\">Gtl</td><td class=\"table-cell\">Veenker</td><td class=\"table-cell\">Feedr</td><td class=\"table-cell\">Norm</td><td class=\"table-cell\">1Fam</td><td class=\"table-cell\">1Story</td><td class=\"table-cell\">6</td><td class=\"table-cell\">8</td><td class=\"table-cell\">1976</td><td class=\"table-cell\">1976</td><td class=\"table-cell\">Gable</td><td class=\"table-cell\">CompShg</td><td class=\"table-cell\">MetalSd</td><td class=\"table-cell\">MetalSd</td><td class=\"table-cell\">None</td><td class=\"table-cell\">0</td><td class=\"table-cell\">TA</td><td class=\"table-cell\">TA</td><td class=\"table-cell\">CBlock</td><td class=\"table-cell\">Gd</td><td class=\"table-cell\">TA</td><td class=\"table-cell\">Gd</td><td class=\"table-cell\">ALQ</td><td class=\"table-cell\">978</td><td class=\"table-cell\">Unf</td><td class=\"table-cell\">0</td><td class=\"table-cell\">284</td><td class=\"table-cell\">1262</td><td class=\"table-cell\">GasA</td><td class=\"table-cell\">Ex</td><td class=\"table-cell\">Y</td><td class=\"table-cell\">SBrkr</td><td class=\"table-cell\">1262</td><td class=\"table-cell\">0</td><td class=\"table-cell\">0</td><td class=\"table-cell\">1262</td><td class=\"table-cell\">0</td><td class=\"table-cell\">1</td><td class=\"table-cell\">2</td><td class=\"table-cell\">0</td><td class=\"table-cell\">3</td><td class=\"table-cell\">1</td><td class=\"table-cell\">TA</td><td class=\"table-cell\">6</td><td class=\"table-cell\">Typ</td><td class=\"table-cell\">1</td><td class=\"table-cell\">TA</td><td class=\"table-cell\">Attchd</td><td class=\"table-cell\">1976</td><td class=\"table-cell\">RFn</td><td class=\"table-cell\">2</td><td class=\"table-cell\">460</td><td class=\"table-cell\">TA</td><td class=\"table-cell\">TA</td><td class=\"table-cell\">Y</td><td class=\"table-cell\">298</td><td class=\"table-cell\">0</td><td class=\"table-cell\">0</td><td class=\"table-cell\">0</td><td class=\"table-cell\">0</td><td class=\"table-cell\">0</td><td class=\"table-cell\">NA</td><td class=\"table-cell\">NA</td><td class=\"table-cell\">NA</td><td class=\"table-cell\">0</td><td class=\"table-cell\">5</td><td class=\"table-cell\">2007</td><td class=\"table-cell\">WD</td><td class=\"table-cell\">Normal</td><td class=\"table-cell\">181500</td></tr><tr class=\"table-row\"><td class=\"table-cell\">3</td><td class=\"table-cell\">60</td><td class=\"table-cell\">RL</td><td class=\"table-cell\">68</td><td class=\"table-cell\">11250</td><td class=\"table-cell\">Pave</td><td class=\"table-cell\">NA</td><td class=\"table-cell\">IR1</td><td class=\"table-cell\">Lvl</td><td class=\"table-cell\">AllPub</td><td class=\"table-cell\">Inside</td><td class=\"table-cell\">Gtl</td><td class=\"table-cell\">CollgCr</td><td class=\"table-cell\">Norm</td><td class=\"table-cell\">Norm</td><td class=\"table-cell\">1Fam</td><td class=\"table-cell\">2Story</td><td class=\"table-cell\">7</td><td class=\"table-cell\">5</td><td class=\"table-cell\">2001</td><td class=\"table-cell\">2002</td><td class=\"table-cell\">Gable</td><td class=\"table-cell\">CompShg</td><td class=\"table-cell\">VinylSd</td><td class=\"table-cell\">VinylSd</td><td class=\"table-cell\">BrkFace</td><td class=\"table-cell\">162</td><td class=\"table-cell\">Gd</td><td class=\"table-cell\">TA</td><td class=\"table-cell\">PConc</td><td class=\"table-cell\">Gd</td><td class=\"table-cell\">TA</td><td class=\"table-cell\">Mn</td><td class=\"table-cell\">GLQ</td><td class=\"table-cell\">486</td><td class=\"table-cell\">Unf</td><td class=\"table-cell\">0</td><td class=\"table-cell\">434</td><td class=\"table-cell\">920</td><td class=\"table-cell\">GasA</td><td class=\"table-cell\">Ex</td><td class=\"table-cell\">Y</td><td class=\"table-cell\">SBrkr</td><td class=\"table-cell\">920</td><td class=\"table-cell\">866</td><td class=\"table-cell\">0</td><td class=\"table-cell\">1786</td><td class=\"table-cell\">1</td><td class=\"table-cell\">0</td><td class=\"table-cell\">2</td><td class=\"table-cell\">1</td><td class=\"table-cell\">3</td><td class=\"table-cell\">1</td><td class=\"table-cell\">Gd</td><td class=\"table-cell\">6</td><td class=\"table-cell\">Typ</td><td class=\"table-cell\">1</td><td class=\"table-cell\">TA</td><td class=\"table-cell\">Attchd</td><td class=\"table-cell\">2001</td><td class=\"table-cell\">RFn</td><td class=\"table-cell\">2</td><td class=\"table-cell\">608</td><td class=\"table-cell\">TA</td><td class=\"table-cell\">TA</td><td class=\"table-cell\">Y</td><td class=\"table-cell\">0</td><td class=\"table-cell\">42</td><td class=\"table-cell\">0</td><td class=\"table-cell\">0</td><td class=\"table-cell\">0</td><td class=\"table-cell\">0</td><td class=\"table-cell\">NA</td><td class=\"table-cell\">NA</td><td class=\"table-cell\">NA</td><td class=\"table-cell\">0</td><td class=\"table-cell\">9</td><td class=\"table-cell\">2008</td><td class=\"table-cell\">WD</td><td class=\"table-cell\">Normal</td><td class=\"table-cell\">223500</td></tr><tr class=\"table-row\"><td class=\"table-cell\">4</td><td class=\"table-cell\">70</td><td class=\"table-cell\">RL</td><td class=\"table-cell\">60</td><td class=\"table-cell\">9550</td><td class=\"table-cell\">Pave</td><td class=\"table-cell\">NA</td><td class=\"table-cell\">IR1</td><td class=\"table-cell\">Lvl</td><td class=\"table-cell\">AllPub</td><td class=\"table-cell\">Corner</td><td class=\"table-cell\">Gtl</td><td class=\"table-cell\">Crawfor</td><td class=\"table-cell\">Norm</td><td class=\"table-cell\">Norm</td><td class=\"table-cell\">1Fam</td><td class=\"table-cell\">2Story</td><td class=\"table-cell\">7</td><td class=\"table-cell\">5</td><td class=\"table-cell\">1915</td><td class=\"table-cell\">1970</td><td class=\"table-cell\">Gable</td><td class=\"table-cell\">CompShg</td><td class=\"table-cell\">Wd Sdng</td><td class=\"table-cell\">Wd Shng</td><td class=\"table-cell\">None</td><td class=\"table-cell\">0</td><td class=\"table-cell\">TA</td><td class=\"table-cell\">TA</td><td class=\"table-cell\">BrkTil</td><td class=\"table-cell\">TA</td><td class=\"table-cell\">Gd</td><td class=\"table-cell\">No</td><td class=\"table-cell\">ALQ</td><td class=\"table-cell\">216</td><td class=\"table-cell\">Unf</td><td class=\"table-cell\">0</td><td class=\"table-cell\">540</td><td class=\"table-cell\">756</td><td class=\"table-cell\">GasA</td><td class=\"table-cell\">Gd</td><td class=\"table-cell\">Y</td><td class=\"table-cell\">SBrkr</td><td class=\"table-cell\">961</td><td class=\"table-cell\">756</td><td class=\"table-cell\">0</td><td class=\"table-cell\">1717</td><td class=\"table-cell\">1</td><td class=\"table-cell\">0</td><td class=\"table-cell\">1</td><td class=\"table-cell\">0</td><td class=\"table-cell\">3</td><td class=\"table-cell\">1</td><td class=\"table-cell\">Gd</td><td class=\"table-cell\">7</td><td class=\"table-cell\">Typ</td><td class=\"table-cell\">1</td><td class=\"table-cell\">Gd</td><td class=\"table-cell\">Detchd</td><td class=\"table-cell\">1998</td><td class=\"table-cell\">Unf</td><td class=\"table-cell\">3</td><td class=\"table-cell\">642</td><td class=\"table-cell\">TA</td><td class=\"table-cell\">TA</td><td class=\"table-cell\">Y</td><td class=\"table-cell\">0</td><td class=\"table-cell\">35</td><td class=\"table-cell\">272</td><td class=\"table-cell\">0</td><td class=\"table-cell\">0</td><td class=\"table-cell\">0</td><td class=\"table-cell\">NA</td><td class=\"table-cell\">NA</td><td class=\"table-cell\">NA</td><td class=\"table-cell\">0</td><td class=\"table-cell\">2</td><td class=\"table-cell\">2006</td><td class=\"table-cell\">WD</td><td class=\"table-cell\">Abnorml</td><td class=\"table-cell\">140000</td></tr><tr class=\"table-row\"><td class=\"table-cell\">5</td><td class=\"table-cell\">60</td><td class=\"table-cell\">RL</td><td class=\"table-cell\">84</td><td class=\"table-cell\">14260</td><td class=\"table-cell\">Pave</td><td class=\"table-cell\">NA</td><td class=\"table-cell\">IR1</td><td class=\"table-cell\">Lvl</td><td class=\"table-cell\">AllPub</td><td class=\"table-cell\">FR2</td><td class=\"table-cell\">Gtl</td><td class=\"table-cell\">NoRidge</td><td class=\"table-cell\">Norm</td><td class=\"table-cell\">Norm</td><td class=\"table-cell\">1Fam</td><td class=\"table-cell\">2Story</td><td class=\"table-cell\">8</td><td class=\"table-cell\">5</td><td class=\"table-cell\">2000</td><td class=\"table-cell\">2000</td><td class=\"table-cell\">Gable</td><td class=\"table-cell\">CompShg</td><td class=\"table-cell\">VinylSd</td><td class=\"table-cell\">VinylSd</td><td class=\"table-cell\">BrkFace</td><td class=\"table-cell\">350</td><td class=\"table-cell\">Gd</td><td class=\"table-cell\">TA</td><td class=\"table-cell\">PConc</td><td class=\"table-cell\">Gd</td><td class=\"table-cell\">TA</td><td class=\"table-cell\">Av</td><td class=\"table-cell\">GLQ</td><td class=\"table-cell\">655</td><td class=\"table-cell\">Unf</td><td class=\"table-cell\">0</td><td class=\"table-cell\">490</td><td class=\"table-cell\">1145</td><td class=\"table-cell\">GasA</td><td class=\"table-cell\">Ex</td><td class=\"table-cell\">Y</td><td class=\"table-cell\">SBrkr</td><td class=\"table-cell\">1145</td><td class=\"table-cell\">1053</td><td class=\"table-cell\">0</td><td class=\"table-cell\">2198</td><td class=\"table-cell\">1</td><td class=\"table-cell\">0</td><td class=\"table-cell\">2</td><td class=\"table-cell\">1</td><td class=\"table-cell\">4</td><td class=\"table-cell\">1</td><td class=\"table-cell\">Gd</td><td class=\"table-cell\">9</td><td class=\"table-cell\">Typ</td><td class=\"table-cell\">1</td><td class=\"table-cell\">TA</td><td class=\"table-cell\">Attchd</td><td class=\"table-cell\">2000</td><td class=\"table-cell\">RFn</td><td class=\"table-cell\">3</td><td class=\"table-cell\">836</td><td class=\"table-cell\">TA</td><td class=\"table-cell\">TA</td><td class=\"table-cell\">Y</td><td class=\"table-cell\">192</td><td class=\"table-cell\">84</td><td class=\"table-cell\">0</td><td class=\"table-cell\">0</td><td class=\"table-cell\">0</td><td class=\"table-cell\">0</td><td class=\"table-cell\">NA</td><td class=\"table-cell\">NA</td><td class=\"table-cell\">NA</td><td class=\"table-cell\">0</td><td class=\"table-cell\">12</td><td class=\"table-cell\">2008</td><td class=\"table-cell\">WD</td><td class=\"table-cell\">Normal</td><td class=\"table-cell\">250000</td></tr></tbody></div></table>"
      ]
     },
     "execution_count": 4,
     "metadata": {},
     "output_type": "execute_result"
    }
   ],
   "source": [
    "// Little bit troublesome compared to Python\n",
    "train.head(5).show()\n"
   ]
  },
  {
   "cell_type": "markdown",
   "metadata": {},
   "source": [
    "## Autocomplete "
   ]
  },
  {
   "cell_type": "code",
   "execution_count": 5,
   "metadata": {},
   "outputs": [
    {
     "data": {
      "text/html": [
       "<div style=\"overflow:scroll\">\n",
       "<style scoped>\n",
       "strong {\n",
       "\tfont-weight: bold;\n",
       "}\n",
       "\n",
       "em {\n",
       "\tfont-style: italic;\n",
       "}\n",
       "\n",
       "table {\n",
       "\tbackground: #f5f5f5;\n",
       "\tborder-collapse: separate;\n",
       "\tbox-shadow: inset 0 1px 0 #fff;\n",
       "\tfont-size: 12px;\n",
       "\tline-height: 24px;\n",
       "\tmargin: 30px auto;\n",
       "\ttext-align: left;\n",
       "\twidth: 800px;\n",
       "}\n",
       "\n",
       "th {\n",
       "\tbackground:  linear-gradient(#777, #444);\n",
       "\tborder-left: 1px solid #555;\n",
       "\tborder-right: 1px solid #777;\n",
       "\tborder-top: 1px solid #555;\n",
       "\tborder-bottom: 1px solid #333;\n",
       "\tbox-shadow: inset 0 1px 0 #999;\n",
       "\tcolor: #fff;\n",
       "  font-weight: bold;\n",
       "\tpadding: 10px 15px;\n",
       "\tposition: relative;\n",
       "\ttext-shadow: 0 1px 0 #000;\n",
       "}\n",
       "th.header-field{\n",
       "\ttext-align: left;\n",
       "}\n",
       "th:after {\n",
       "\tbackground: linear-gradient(rgba(255,255,255,0), rgba(255,255,255,.08));\n",
       "\tcontent: '';\n",
       "\tdisplay: block;\n",
       "\theight: 25%;\n",
       "\tleft: 0;\n",
       "\tmargin: 1px 0 0 0;\n",
       "\tposition: absolute;\n",
       "\ttop: 25%;\n",
       "\twidth: 100%;\n",
       "}\n",
       "\n",
       "th:first-child {\n",
       "\tborder-left: 1px solid #777;\n",
       "\tbox-shadow: inset 1px 1px 0 #999;\n",
       "}\n",
       "\n",
       "th:last-child {\n",
       "\tbox-shadow: inset -1px 1px 0 #999;\n",
       "}\n",
       "\n",
       "td.table-cell {\n",
       "\tborder-right: 1px solid #fff;\n",
       "\tborder-left: 1px solid #e8e8e8;\n",
       "\tborder-top: 1px solid #fff;\n",
       "\tborder-bottom: 1px solid #e8e8e8;\n",
       "\tpadding: 10px 15px;\n",
       "\tposition: relative;\n",
       "\ttransition: all 300ms;\n",
       "\ttext-align:left;\n",
       "}\n",
       "\n",
       "td.table-cell:first-child {\n",
       "\tbox-shadow: inset 1px 0 0 #fff;\n",
       "}\n",
       "\n",
       "td.table-cell:last-child {\n",
       "\tborder-right: 1px solid #e8e8e8;\n",
       "\tbox-shadow: inset -1px 0 0 #fff;\n",
       "}\n",
       "\n",
       "\n",
       "tr:last-of-type td {\n",
       "\tbox-shadow: inset 0 -1px 0 #fff;\n",
       "}\n",
       "\n",
       "tr:last-of-type td:first-child {\n",
       "\tbox-shadow: inset 1px -1px 0 #fff;\n",
       "}\n",
       "\n",
       "tr:last-of-type td:last-child {\n",
       "\tbox-shadow: inset -1px -1px 0 #fff;\n",
       "}\n",
       "th{\n",
       "\twidth:8em;\n",
       "}\n",
       "</style><table><caption>Table View</caption><thead class=\"theader\"><tr><th class=\"header-field\">Id</th><th class=\"header-field\">MSSubClass</th><th class=\"header-field\">MSZoning</th><th class=\"header-field\">LotFrontage</th><th class=\"header-field\">LotArea</th><th class=\"header-field\">Street</th><th class=\"header-field\">Alley</th><th class=\"header-field\">LotShape</th><th class=\"header-field\">LandContour</th><th class=\"header-field\">Utilities</th><th class=\"header-field\">LotConfig</th><th class=\"header-field\">LandSlope</th><th class=\"header-field\">Neighborhood</th><th class=\"header-field\">Condition1</th><th class=\"header-field\">Condition2</th><th class=\"header-field\">BldgType</th><th class=\"header-field\">HouseStyle</th><th class=\"header-field\">OverallQual</th><th class=\"header-field\">OverallCond</th><th class=\"header-field\">YearBuilt</th><th class=\"header-field\">YearRemodAdd</th><th class=\"header-field\">RoofStyle</th><th class=\"header-field\">RoofMatl</th><th class=\"header-field\">Exterior1st</th><th class=\"header-field\">Exterior2nd</th><th class=\"header-field\">MasVnrType</th><th class=\"header-field\">MasVnrArea</th><th class=\"header-field\">ExterQual</th><th class=\"header-field\">ExterCond</th><th class=\"header-field\">Foundation</th><th class=\"header-field\">BsmtQual</th><th class=\"header-field\">BsmtCond</th><th class=\"header-field\">BsmtExposure</th><th class=\"header-field\">BsmtFinType1</th><th class=\"header-field\">BsmtFinSF1</th><th class=\"header-field\">BsmtFinType2</th><th class=\"header-field\">BsmtFinSF2</th><th class=\"header-field\">BsmtUnfSF</th><th class=\"header-field\">TotalBsmtSF</th><th class=\"header-field\">Heating</th><th class=\"header-field\">HeatingQC</th><th class=\"header-field\">CentralAir</th><th class=\"header-field\">Electrical</th><th class=\"header-field\">1stFlrSF</th><th class=\"header-field\">2ndFlrSF</th><th class=\"header-field\">LowQualFinSF</th><th class=\"header-field\">GrLivArea</th><th class=\"header-field\">BsmtFullBath</th><th class=\"header-field\">BsmtHalfBath</th><th class=\"header-field\">FullBath</th><th class=\"header-field\">HalfBath</th><th class=\"header-field\">BedroomAbvGr</th><th class=\"header-field\">KitchenAbvGr</th><th class=\"header-field\">KitchenQual</th><th class=\"header-field\">TotRmsAbvGrd</th><th class=\"header-field\">Functional</th><th class=\"header-field\">Fireplaces</th><th class=\"header-field\">FireplaceQu</th><th class=\"header-field\">GarageType</th><th class=\"header-field\">GarageYrBlt</th><th class=\"header-field\">GarageFinish</th><th class=\"header-field\">GarageCars</th><th class=\"header-field\">GarageArea</th><th class=\"header-field\">GarageQual</th><th class=\"header-field\">GarageCond</th><th class=\"header-field\">PavedDrive</th><th class=\"header-field\">WoodDeckSF</th><th class=\"header-field\">OpenPorchSF</th><th class=\"header-field\">EnclosedPorch</th><th class=\"header-field\">3SsnPorch</th><th class=\"header-field\">ScreenPorch</th><th class=\"header-field\">PoolArea</th><th class=\"header-field\">PoolQC</th><th class=\"header-field\">Fence</th><th class=\"header-field\">MiscFeature</th><th class=\"header-field\">MiscVal</th><th class=\"header-field\">MoSold</th><th class=\"header-field\">YrSold</th><th class=\"header-field\">SaleType</th><th class=\"header-field\">SaleCondition</th><th class=\"header-field\">SalePrice</th></tr></thead><tbody><tr class=\"table-row\"><td class=\"table-cell\">1456</td><td class=\"table-cell\">60</td><td class=\"table-cell\">RL</td><td class=\"table-cell\">62</td><td class=\"table-cell\">7917</td><td class=\"table-cell\">Pave</td><td class=\"table-cell\">NA</td><td class=\"table-cell\">Reg</td><td class=\"table-cell\">Lvl</td><td class=\"table-cell\">AllPub</td><td class=\"table-cell\">Inside</td><td class=\"table-cell\">Gtl</td><td class=\"table-cell\">Gilbert</td><td class=\"table-cell\">Norm</td><td class=\"table-cell\">Norm</td><td class=\"table-cell\">1Fam</td><td class=\"table-cell\">2Story</td><td class=\"table-cell\">6</td><td class=\"table-cell\">5</td><td class=\"table-cell\">1999</td><td class=\"table-cell\">2000</td><td class=\"table-cell\">Gable</td><td class=\"table-cell\">CompShg</td><td class=\"table-cell\">VinylSd</td><td class=\"table-cell\">VinylSd</td><td class=\"table-cell\">None</td><td class=\"table-cell\">0</td><td class=\"table-cell\">TA</td><td class=\"table-cell\">TA</td><td class=\"table-cell\">PConc</td><td class=\"table-cell\">Gd</td><td class=\"table-cell\">TA</td><td class=\"table-cell\">No</td><td class=\"table-cell\">Unf</td><td class=\"table-cell\">0</td><td class=\"table-cell\">Unf</td><td class=\"table-cell\">0</td><td class=\"table-cell\">953</td><td class=\"table-cell\">953</td><td class=\"table-cell\">GasA</td><td class=\"table-cell\">Ex</td><td class=\"table-cell\">Y</td><td class=\"table-cell\">SBrkr</td><td class=\"table-cell\">953</td><td class=\"table-cell\">694</td><td class=\"table-cell\">0</td><td class=\"table-cell\">1647</td><td class=\"table-cell\">0</td><td class=\"table-cell\">0</td><td class=\"table-cell\">2</td><td class=\"table-cell\">1</td><td class=\"table-cell\">3</td><td class=\"table-cell\">1</td><td class=\"table-cell\">TA</td><td class=\"table-cell\">7</td><td class=\"table-cell\">Typ</td><td class=\"table-cell\">1</td><td class=\"table-cell\">TA</td><td class=\"table-cell\">Attchd</td><td class=\"table-cell\">1999</td><td class=\"table-cell\">RFn</td><td class=\"table-cell\">2</td><td class=\"table-cell\">460</td><td class=\"table-cell\">TA</td><td class=\"table-cell\">TA</td><td class=\"table-cell\">Y</td><td class=\"table-cell\">0</td><td class=\"table-cell\">40</td><td class=\"table-cell\">0</td><td class=\"table-cell\">0</td><td class=\"table-cell\">0</td><td class=\"table-cell\">0</td><td class=\"table-cell\">NA</td><td class=\"table-cell\">NA</td><td class=\"table-cell\">NA</td><td class=\"table-cell\">0</td><td class=\"table-cell\">8</td><td class=\"table-cell\">2007</td><td class=\"table-cell\">WD</td><td class=\"table-cell\">Normal</td><td class=\"table-cell\">175000</td></tr><tr class=\"table-row\"><td class=\"table-cell\">1457</td><td class=\"table-cell\">20</td><td class=\"table-cell\">RL</td><td class=\"table-cell\">85</td><td class=\"table-cell\">13175</td><td class=\"table-cell\">Pave</td><td class=\"table-cell\">NA</td><td class=\"table-cell\">Reg</td><td class=\"table-cell\">Lvl</td><td class=\"table-cell\">AllPub</td><td class=\"table-cell\">Inside</td><td class=\"table-cell\">Gtl</td><td class=\"table-cell\">NWAmes</td><td class=\"table-cell\">Norm</td><td class=\"table-cell\">Norm</td><td class=\"table-cell\">1Fam</td><td class=\"table-cell\">1Story</td><td class=\"table-cell\">6</td><td class=\"table-cell\">6</td><td class=\"table-cell\">1978</td><td class=\"table-cell\">1988</td><td class=\"table-cell\">Gable</td><td class=\"table-cell\">CompShg</td><td class=\"table-cell\">Plywood</td><td class=\"table-cell\">Plywood</td><td class=\"table-cell\">Stone</td><td class=\"table-cell\">119</td><td class=\"table-cell\">TA</td><td class=\"table-cell\">TA</td><td class=\"table-cell\">CBlock</td><td class=\"table-cell\">Gd</td><td class=\"table-cell\">TA</td><td class=\"table-cell\">No</td><td class=\"table-cell\">ALQ</td><td class=\"table-cell\">790</td><td class=\"table-cell\">Rec</td><td class=\"table-cell\">163</td><td class=\"table-cell\">589</td><td class=\"table-cell\">1542</td><td class=\"table-cell\">GasA</td><td class=\"table-cell\">TA</td><td class=\"table-cell\">Y</td><td class=\"table-cell\">SBrkr</td><td class=\"table-cell\">2073</td><td class=\"table-cell\">0</td><td class=\"table-cell\">0</td><td class=\"table-cell\">2073</td><td class=\"table-cell\">1</td><td class=\"table-cell\">0</td><td class=\"table-cell\">2</td><td class=\"table-cell\">0</td><td class=\"table-cell\">3</td><td class=\"table-cell\">1</td><td class=\"table-cell\">TA</td><td class=\"table-cell\">7</td><td class=\"table-cell\">Min1</td><td class=\"table-cell\">2</td><td class=\"table-cell\">TA</td><td class=\"table-cell\">Attchd</td><td class=\"table-cell\">1978</td><td class=\"table-cell\">Unf</td><td class=\"table-cell\">2</td><td class=\"table-cell\">500</td><td class=\"table-cell\">TA</td><td class=\"table-cell\">TA</td><td class=\"table-cell\">Y</td><td class=\"table-cell\">349</td><td class=\"table-cell\">0</td><td class=\"table-cell\">0</td><td class=\"table-cell\">0</td><td class=\"table-cell\">0</td><td class=\"table-cell\">0</td><td class=\"table-cell\">NA</td><td class=\"table-cell\">MnPrv</td><td class=\"table-cell\">NA</td><td class=\"table-cell\">0</td><td class=\"table-cell\">2</td><td class=\"table-cell\">2010</td><td class=\"table-cell\">WD</td><td class=\"table-cell\">Normal</td><td class=\"table-cell\">210000</td></tr><tr class=\"table-row\"><td class=\"table-cell\">1458</td><td class=\"table-cell\">70</td><td class=\"table-cell\">RL</td><td class=\"table-cell\">66</td><td class=\"table-cell\">9042</td><td class=\"table-cell\">Pave</td><td class=\"table-cell\">NA</td><td class=\"table-cell\">Reg</td><td class=\"table-cell\">Lvl</td><td class=\"table-cell\">AllPub</td><td class=\"table-cell\">Inside</td><td class=\"table-cell\">Gtl</td><td class=\"table-cell\">Crawfor</td><td class=\"table-cell\">Norm</td><td class=\"table-cell\">Norm</td><td class=\"table-cell\">1Fam</td><td class=\"table-cell\">2Story</td><td class=\"table-cell\">7</td><td class=\"table-cell\">9</td><td class=\"table-cell\">1941</td><td class=\"table-cell\">2006</td><td class=\"table-cell\">Gable</td><td class=\"table-cell\">CompShg</td><td class=\"table-cell\">CemntBd</td><td class=\"table-cell\">CmentBd</td><td class=\"table-cell\">None</td><td class=\"table-cell\">0</td><td class=\"table-cell\">Ex</td><td class=\"table-cell\">Gd</td><td class=\"table-cell\">Stone</td><td class=\"table-cell\">TA</td><td class=\"table-cell\">Gd</td><td class=\"table-cell\">No</td><td class=\"table-cell\">GLQ</td><td class=\"table-cell\">275</td><td class=\"table-cell\">Unf</td><td class=\"table-cell\">0</td><td class=\"table-cell\">877</td><td class=\"table-cell\">1152</td><td class=\"table-cell\">GasA</td><td class=\"table-cell\">Ex</td><td class=\"table-cell\">Y</td><td class=\"table-cell\">SBrkr</td><td class=\"table-cell\">1188</td><td class=\"table-cell\">1152</td><td class=\"table-cell\">0</td><td class=\"table-cell\">2340</td><td class=\"table-cell\">0</td><td class=\"table-cell\">0</td><td class=\"table-cell\">2</td><td class=\"table-cell\">0</td><td class=\"table-cell\">4</td><td class=\"table-cell\">1</td><td class=\"table-cell\">Gd</td><td class=\"table-cell\">9</td><td class=\"table-cell\">Typ</td><td class=\"table-cell\">2</td><td class=\"table-cell\">Gd</td><td class=\"table-cell\">Attchd</td><td class=\"table-cell\">1941</td><td class=\"table-cell\">RFn</td><td class=\"table-cell\">1</td><td class=\"table-cell\">252</td><td class=\"table-cell\">TA</td><td class=\"table-cell\">TA</td><td class=\"table-cell\">Y</td><td class=\"table-cell\">0</td><td class=\"table-cell\">60</td><td class=\"table-cell\">0</td><td class=\"table-cell\">0</td><td class=\"table-cell\">0</td><td class=\"table-cell\">0</td><td class=\"table-cell\">NA</td><td class=\"table-cell\">GdPrv</td><td class=\"table-cell\">Shed</td><td class=\"table-cell\">2500</td><td class=\"table-cell\">5</td><td class=\"table-cell\">2010</td><td class=\"table-cell\">WD</td><td class=\"table-cell\">Normal</td><td class=\"table-cell\">266500</td></tr><tr class=\"table-row\"><td class=\"table-cell\">1459</td><td class=\"table-cell\">20</td><td class=\"table-cell\">RL</td><td class=\"table-cell\">68</td><td class=\"table-cell\">9717</td><td class=\"table-cell\">Pave</td><td class=\"table-cell\">NA</td><td class=\"table-cell\">Reg</td><td class=\"table-cell\">Lvl</td><td class=\"table-cell\">AllPub</td><td class=\"table-cell\">Inside</td><td class=\"table-cell\">Gtl</td><td class=\"table-cell\">NAmes</td><td class=\"table-cell\">Norm</td><td class=\"table-cell\">Norm</td><td class=\"table-cell\">1Fam</td><td class=\"table-cell\">1Story</td><td class=\"table-cell\">5</td><td class=\"table-cell\">6</td><td class=\"table-cell\">1950</td><td class=\"table-cell\">1996</td><td class=\"table-cell\">Hip</td><td class=\"table-cell\">CompShg</td><td class=\"table-cell\">MetalSd</td><td class=\"table-cell\">MetalSd</td><td class=\"table-cell\">None</td><td class=\"table-cell\">0</td><td class=\"table-cell\">TA</td><td class=\"table-cell\">TA</td><td class=\"table-cell\">CBlock</td><td class=\"table-cell\">TA</td><td class=\"table-cell\">TA</td><td class=\"table-cell\">Mn</td><td class=\"table-cell\">GLQ</td><td class=\"table-cell\">49</td><td class=\"table-cell\">Rec</td><td class=\"table-cell\">1029</td><td class=\"table-cell\">0</td><td class=\"table-cell\">1078</td><td class=\"table-cell\">GasA</td><td class=\"table-cell\">Gd</td><td class=\"table-cell\">Y</td><td class=\"table-cell\">FuseA</td><td class=\"table-cell\">1078</td><td class=\"table-cell\">0</td><td class=\"table-cell\">0</td><td class=\"table-cell\">1078</td><td class=\"table-cell\">1</td><td class=\"table-cell\">0</td><td class=\"table-cell\">1</td><td class=\"table-cell\">0</td><td class=\"table-cell\">2</td><td class=\"table-cell\">1</td><td class=\"table-cell\">Gd</td><td class=\"table-cell\">5</td><td class=\"table-cell\">Typ</td><td class=\"table-cell\">0</td><td class=\"table-cell\">NA</td><td class=\"table-cell\">Attchd</td><td class=\"table-cell\">1950</td><td class=\"table-cell\">Unf</td><td class=\"table-cell\">1</td><td class=\"table-cell\">240</td><td class=\"table-cell\">TA</td><td class=\"table-cell\">TA</td><td class=\"table-cell\">Y</td><td class=\"table-cell\">366</td><td class=\"table-cell\">0</td><td class=\"table-cell\">112</td><td class=\"table-cell\">0</td><td class=\"table-cell\">0</td><td class=\"table-cell\">0</td><td class=\"table-cell\">NA</td><td class=\"table-cell\">NA</td><td class=\"table-cell\">NA</td><td class=\"table-cell\">0</td><td class=\"table-cell\">4</td><td class=\"table-cell\">2010</td><td class=\"table-cell\">WD</td><td class=\"table-cell\">Normal</td><td class=\"table-cell\">142125</td></tr><tr class=\"table-row\"><td class=\"table-cell\">1460</td><td class=\"table-cell\">20</td><td class=\"table-cell\">RL</td><td class=\"table-cell\">75</td><td class=\"table-cell\">9937</td><td class=\"table-cell\">Pave</td><td class=\"table-cell\">NA</td><td class=\"table-cell\">Reg</td><td class=\"table-cell\">Lvl</td><td class=\"table-cell\">AllPub</td><td class=\"table-cell\">Inside</td><td class=\"table-cell\">Gtl</td><td class=\"table-cell\">Edwards</td><td class=\"table-cell\">Norm</td><td class=\"table-cell\">Norm</td><td class=\"table-cell\">1Fam</td><td class=\"table-cell\">1Story</td><td class=\"table-cell\">5</td><td class=\"table-cell\">6</td><td class=\"table-cell\">1965</td><td class=\"table-cell\">1965</td><td class=\"table-cell\">Gable</td><td class=\"table-cell\">CompShg</td><td class=\"table-cell\">HdBoard</td><td class=\"table-cell\">HdBoard</td><td class=\"table-cell\">None</td><td class=\"table-cell\">0</td><td class=\"table-cell\">Gd</td><td class=\"table-cell\">TA</td><td class=\"table-cell\">CBlock</td><td class=\"table-cell\">TA</td><td class=\"table-cell\">TA</td><td class=\"table-cell\">No</td><td class=\"table-cell\">BLQ</td><td class=\"table-cell\">830</td><td class=\"table-cell\">LwQ</td><td class=\"table-cell\">290</td><td class=\"table-cell\">136</td><td class=\"table-cell\">1256</td><td class=\"table-cell\">GasA</td><td class=\"table-cell\">Gd</td><td class=\"table-cell\">Y</td><td class=\"table-cell\">SBrkr</td><td class=\"table-cell\">1256</td><td class=\"table-cell\">0</td><td class=\"table-cell\">0</td><td class=\"table-cell\">1256</td><td class=\"table-cell\">1</td><td class=\"table-cell\">0</td><td class=\"table-cell\">1</td><td class=\"table-cell\">1</td><td class=\"table-cell\">3</td><td class=\"table-cell\">1</td><td class=\"table-cell\">TA</td><td class=\"table-cell\">6</td><td class=\"table-cell\">Typ</td><td class=\"table-cell\">0</td><td class=\"table-cell\">NA</td><td class=\"table-cell\">Attchd</td><td class=\"table-cell\">1965</td><td class=\"table-cell\">Fin</td><td class=\"table-cell\">1</td><td class=\"table-cell\">276</td><td class=\"table-cell\">TA</td><td class=\"table-cell\">TA</td><td class=\"table-cell\">Y</td><td class=\"table-cell\">736</td><td class=\"table-cell\">68</td><td class=\"table-cell\">0</td><td class=\"table-cell\">0</td><td class=\"table-cell\">0</td><td class=\"table-cell\">0</td><td class=\"table-cell\">NA</td><td class=\"table-cell\">NA</td><td class=\"table-cell\">NA</td><td class=\"table-cell\">0</td><td class=\"table-cell\">6</td><td class=\"table-cell\">2008</td><td class=\"table-cell\">WD</td><td class=\"table-cell\">Normal</td><td class=\"table-cell\">147500</td></tr></tbody></div></table>"
      ]
     },
     "execution_count": 5,
     "metadata": {},
     "output_type": "execute_result"
    }
   ],
   "source": [
    "train.tail(5).show()"
   ]
  },
  {
   "cell_type": "markdown",
   "metadata": {},
   "source": [
    "## Async"
   ]
  },
  {
   "cell_type": "code",
   "execution_count": 6,
   "metadata": {},
   "outputs": [
    {
     "name": "stdout",
     "output_type": "stream",
     "text": [
      "Hello, World!\n"
     ]
    }
   ],
   "source": [
    "$$.async();\n",
    "\n",
    "console.log(\"Hello, World!\" );\n",
    "\n",
    "setTimeout($$.done, 5000);"
   ]
  },
  {
   "cell_type": "markdown",
   "metadata": {},
   "source": [
    "# Data Science Stuff"
   ]
  },
  {
   "cell_type": "markdown",
   "metadata": {},
   "source": [
    "## Dataset \n",
    "\n",
    "https://www.kaggle.com/c/house-prices-advanced-regression-techniques/data\n",
    "\n",
    "Data field description:\n",
    "Here's a brief version of what you'll find in the data description file.\n",
    "\n",
    "- SalePrice - the property's sale price in dollars. This is the target variable that you're trying to predict.\n",
    "- MSSubClass: The building class\n",
    "- MSZoning: The general zoning classification\n",
    "- LotFrontage: Linear feet of street connected to property\n",
    "- LotArea: Lot size in square feet\n",
    "- Street: Type of road access\n",
    "- Alley: Type of alley access\n",
    "- LotShape: General shape of property\n",
    "- LandContour: Flatness of the property\n",
    "- Utilities: Type of utilities available\n",
    "- LotConfig: Lot configuration\n",
    "- LandSlope: Slope of property\n",
    "- Neighborhood: Physical locations within Ames city limits\n",
    "- Condition1: Proximity to main road or railroad\n",
    "- Condition2: Proximity to main road or railroad (if a second is present)\n",
    "- BldgType: Type of dwelling\n",
    "- HouseStyle: Style of dwelling\n",
    "- OverallQual: Overall material and finish quality\n",
    "- OverallCond: Overall condition rating\n",
    "- YearBuilt: Original construction date\n",
    "- YearRemodAdd: Remodel date\n",
    "- RoofStyle: Type of roof\n",
    "- RoofMatl: Roof material\n",
    "- Exterior1st: Exterior covering on house\n",
    "- Exterior2nd: Exterior covering on house (if more than one material)\n",
    "- MasVnrType: Masonry veneer type\n",
    "- MasVnrArea: Masonry veneer area in square feet\n",
    "- ExterQual: Exterior material quality\n",
    "- ExterCond: Present condition of the material on the exterior\n",
    "- Foundation: Type of foundation\n",
    "- BsmtQual: Height of the basement\n",
    "- BsmtCond: General condition of the basement\n",
    "- BsmtExposure: Walkout or garden level basement walls\n",
    "- BsmtFinType1: Quality of basement finished area\n",
    "- BsmtFinSF1: Type 1 finished square feet\n",
    "- BsmtFinType2: Quality of second finished area (if present)\n",
    "- BsmtFinSF2: Type 2 finished square feet\n",
    "- BsmtUnfSF: Unfinished square feet of basement area\n",
    "- TotalBsmtSF: Total square feet of basement area\n",
    "- Heating: Type of heating\n",
    "- HeatingQC: Heating quality and condition\n",
    "- CentralAir: Central air conditioning\n",
    "- Electrical: Electrical system\n",
    "- 1stFlrSF: First Floor square feet\n",
    "- 2ndFlrSF: Second floor square feet\n",
    "- LowQualFinSF: Low quality finished square feet (all floors)\n",
    "- GrLivArea: Above grade (ground) living area square feet\n",
    "- BsmtFullBath: Basement full bathrooms\n",
    "- BsmtHalfBath: Basement half bathrooms\n",
    "- FullBath: Full bathrooms above grade\n",
    "- HalfBath: Half baths above grade\n",
    "- Bedroom: Number of bedrooms above basement level\n",
    "- Kitchen: Number of kitchens\n",
    "- KitchenQual: Kitchen quality\n",
    "- TotRmsAbvGrd: Total rooms above grade (does not include bathrooms)\n",
    "- Functional: Home functionality rating\n",
    "- Fireplaces: Number of fireplaces\n",
    "- FireplaceQu: Fireplace quality\n",
    "- GarageType: Garage location\n",
    "- GarageYrBlt: Year garage was built\n",
    "- GarageFinish: Interior finish of the garage\n",
    "- GarageCars: Size of garage in car capacity\n",
    "- GarageArea: Size of garage in square feet\n",
    "- GarageQual: Garage quality\n",
    "- GarageCond: Garage condition\n",
    "- PavedDrive: Paved driveway\n",
    "- WoodDeckSF: Wood deck area in square feet\n",
    "- OpenPorchSF: Open porch area in square feet\n",
    "- EnclosedPorch: Enclosed porch area in square feet\n",
    "- 3SsnPorch: Three season porch area in square feet\n",
    "- ScreenPorch: Screen porch area in square feet\n",
    "- PoolArea: Pool area in square feet\n",
    "- PoolQC: Pool quality\n",
    "- Fence: Fence quality\n",
    "- MiscFeature: Miscellaneous feature not covered in other categories\n",
    "- MiscVal: $Value of miscellaneous feature\n",
    "- MoSold: Month Sold\n",
    "- YrSold: Year Sold\n",
    "- SaleType: Type of sale\n",
    "- SaleCondition: Condition of sale"
   ]
  },
  {
   "cell_type": "code",
   "execution_count": null,
   "metadata": {},
   "outputs": [],
   "source": [
    "// The target we are trying to predict\n",
    "train.describe('SalePrice').show()\n",
    "// train.describe('SalePrice').map(p=>{console.log(p)})"
   ]
  },
  {
   "cell_type": "markdown",
   "metadata": {},
   "source": [
    "Findings:\n",
    "- We can see the mean value is about 180,921 with a SD of 79,415. \n",
    "- 50% of the houses were sold for prices between 129,900 and 214,000 (between the 25% and 75% quartiles)."
   ]
  },
  {
   "cell_type": "code",
   "execution_count": 10,
   "metadata": {},
   "outputs": [
    {
     "data": {
      "text/html": [
       "\n",
       "\t<div class=\"plotly-plot\">\n",
       "\t\t<div id=\"notebook-plot-1522243099251\"></div>\n",
       "\t\t<script>\n",
       "\t\tfunction plot1522243099251(){\n",
       "\t\t\tPlotly.plot('notebook-plot-1522243099251',[{\"type\":\"histogram\",\"x\":[208500,181500,223500,140000,250000,143000,307000,200000,129900,118000,129500,345000,144000,279500,157000,132000,149000,90000,159000,139000,325300,139400,230000,129900,154000,256300,134800,306000,207500,68500,40000,149350,179900,165500,277500,309000,145000,153000,109000,82000,160000,170000,144000,130250,141000,319900,239686,249700,113000,127000,177000,114500,110000,385000,130000,180500,172500,196500,438780,124900,158000,101000,202500,140000,219500,317000,180000,226000,80000,225000,244000,129500,185000,144900,107400,91000,135750,127000,136500,110000,193500,153500,245000,126500,168500,260000,174000,164500,85000,123600,109900,98600,163500,133900,204750,185000,214000,94750,83000,128950,205000,178000,118964,198900,169500,250000,100000,115000,115000,190000,136900,180000,383970,217000,259500,176000,139000,155000,320000,163990,180000,100000,136000,153900,181000,84500,128000,87000,155000,150000,226000,244000,150750,220000,180000,174000,143000,171000,230000,231500,115000,260000,166000,204000,125000,130000,105000,222500,141000,115000,122000,372402,190000,235000,125000,79000,109500,269500,254900,320000,162500,412500,220000,103200,152000,127500,190000,325624,183500,228000,128500,215000,239000,163000,184000,243000,211000,172500,501837,100000,177000,200100,120000,200000,127000,475000,173000,135000,153337,286000,315000,184000,192000,130000,127000,148500,311872,235000,104000,274900,140000,171500,112000,149000,110000,180500,143900,141000,277000,145000,98000,186000,252678,156000,161750,134450,210000,107000,311500,167240,204900,200000,179900,97000,386250,112000,290000,106000,125000,192500,148000,403000,94500,128200,216500,89500,185500,194500,318000,113000,262500,110500,79000,120000,205000,241500,137000,140000,180000,277000,76500,235000,173000,158000,145000,230000,207500,220000,231500,97000,176000,276000,151000,130000,73000,175500,185000,179500,120500,148000,266000,241500,290000,139000,124500,205000,201000,141000,415298,192000,228500,185000,207500,244600,179200,164700,159000,88000,122000,153575,233230,135900,131000,235000,167000,142500,152000,239000,175000,158500,157000,267000,205000,149900,295000,305900,225000,89500,82500,360000,165600,132000,119900,375000,178000,188500,260000,270000,260000,187500,342643,354000,301000,126175,242000,87000,324000,145250,214500,78000,119000,139000,284000,207000,192000,228950,377426,214000,202500,155000,202900,82000,87500,266000,85000,140200,151500,157500,154000,437154,318061,190000,95000,105900,140000,177500,173000,134000,130000,280000,156000,145000,198500,118000,190000,147000,159000,165000,132000,162000,172400,134432,125000,123000,219500,61000,148000,340000,394432,179000,127000,187750,213500,76000,240000,192000,81000,125000,191000,426000,119000,215000,106500,100000,109000,129000,123000,169500,67000,241000,245500,164990,108000,258000,168000,150000,115000,177000,280000,339750,60000,145000,222000,115000,228000,181134,149500,239000,126000,142000,206300,215000,113000,315000,139000,135000,275000,109008,195400,175000,85400,79900,122500,181000,81000,212000,116000,119000,90350,110000,555000,118000,162900,172500,210000,127500,190000,199900,119500,120000,110000,280000,204000,210000,188000,175500,98000,256000,161000,110000,263435,155000,62383,188700,124000,178740,167000,146500,250000,187000,212000,190000,148000,440000,251000,132500,208900,380000,297000,89471,326000,374000,155000,164000,132500,147000,156000,175000,160000,86000,115000,133000,172785,155000,91300,34900,430000,184000,130000,120000,113000,226700,140000,289000,147000,124500,215000,208300,161000,124500,164900,202665,129900,134000,96500,402861,158000,265000,211000,234000,106250,150000,159000,184750,315750,176000,132000,446261,86000,200624,175000,128000,107500,39300,178000,107500,188000,111250,158000,272000,315000,248000,213250,133000,179665,229000,210000,129500,125000,263000,140000,112500,255500,108000,284000,113000,141000,108000,175000,234000,121500,170000,108000,185000,268000,128000,325000,214000,316600,135960,142600,120000,224500,170000,139000,118500,145000,164500,146000,131500,181900,253293,118500,325000,133000,369900,130000,137000,143000,79500,185900,451950,138000,140000,110000,319000,114504,194201,217500,151000,275000,141000,220000,151000,221000,205000,152000,225000,359100,118500,313000,148000,261500,147000,75500,137500,183200,105500,314813,305000,67000,240000,135000,168500,165150,160000,139900,153000,135000,168500,124000,209500,82500,139400,144000,200000,60000,93000,85000,264561,274000,226000,345000,152000,370878,143250,98300,155000,155000,84500,205950,108000,191000,135000,350000,88000,145500,149000,97500,167000,197900,402000,110000,137500,423000,230500,129000,193500,168000,137500,173500,103600,165000,257500,140000,148500,87000,109500,372500,128500,143000,159434,173000,285000,221000,207500,227875,148800,392000,194700,141000,755000,335000,108480,141500,176000,89000,123500,138500,196000,312500,140000,361919,140000,213000,55000,302000,254000,179540,109900,52000,102776,189000,129000,130500,165000,159500,157000,341000,128500,275000,143000,124500,135000,320000,120500,222000,194500,110000,103000,236500,187500,222500,131400,108000,163000,93500,239900,179000,190000,132000,142000,179000,175000,180000,299800,236000,265979,260400,98000,96500,162000,217000,275500,156000,172500,212000,158900,179400,290000,127500,100000,215200,337000,270000,264132,196500,160000,216837,538000,134900,102000,107000,114500,395000,162000,221500,142500,144000,135000,176000,175900,187100,165500,128000,161500,139000,233000,107900,187500,160200,146800,269790,225000,194500,171000,143500,110000,485000,175000,200000,109900,189000,582933,118000,227680,135500,223500,159950,106000,181000,144500,55993,157900,116000,224900,137000,271000,155000,224000,183000,93000,225000,139500,232600,385000,109500,189000,185000,147400,166000,151000,237000,167000,139950,128000,153500,100000,144000,130500,140000,157500,174900,141000,153900,171000,213000,133500,240000,187000,131500,215000,164000,158000,170000,127000,147000,174000,152000,250000,189950,131500,152000,132500,250580,148500,248900,129000,169000,236000,109500,200500,116000,133000,66500,303477,132250,350000,148000,136500,157000,187500,178000,118500,100000,328900,145000,135500,268000,149500,122900,172500,154500,165000,118858,140000,106500,142953,611657,135000,110000,153000,180000,240000,125500,128000,255000,250000,131000,174000,154300,143500,88000,145000,173733,75000,35311,135000,238000,176500,201000,145900,169990,193000,207500,175000,285000,176000,236500,222000,201000,117500,320000,190000,242000,79900,184900,253000,239799,244400,150900,214000,150000,143000,137500,124900,143000,270000,192500,197500,129000,119900,133900,172000,127500,145000,124000,132000,185000,155000,116500,272000,155000,239000,214900,178900,160000,135000,37900,140000,135000,173000,99500,182000,167500,165000,85500,199900,110000,139000,178400,336000,159895,255900,126000,125000,117000,395192,195000,197000,348000,168000,187000,173900,337500,121600,136500,185000,91000,206000,82000,86000,232000,136905,181000,149900,163500,88000,240000,102000,135000,100000,165000,85000,119200,227000,203000,187500,160000,213490,176000,194000,87000,191000,287000,112500,167500,293077,105000,118000,160000,197000,310000,230000,119750,84000,315500,287000,97000,80000,155000,173000,196000,262280,278000,139600,556581,145000,115000,84900,176485,200141,165000,144500,255000,180000,185850,248000,335000,220000,213500,81000,90000,110500,154000,328000,178000,167900,151400,135000,135000,154000,91500,159500,194000,219500,170000,138800,155900,126000,145000,133000,192000,160000,187500,147000,83500,252000,137500,197000,92900,160000,136500,146000,129000,176432,127000,170000,128000,157000,60000,119500,135000,159500,106000,325000,179900,274725,181000,280000,188000,205000,129900,134500,117000,318000,184100,130000,140000,133700,118400,212900,112000,118000,163900,115000,174000,259000,215000,140000,135000,93500,117500,239500,169000,102000,119000,94000,196000,144000,139000,197500,424870,80000,80000,149000,180000,174500,116900,143000,124000,149900,230000,120500,201800,218000,179900,230000,235128,185000,146000,224000,129000,108959,194000,233170,245350,173000,235000,625000,171000,163000,171900,200500,239000,285000,119500,115000,154900,93000,250000,392500,745000,120000,186700,104900,95000,262000,195000,189000,168000,174000,125000,165000,158000,176000,219210,144000,178000,148000,116050,197900,117000,213000,153500,271900,107000,200000,140000,290000,189000,164000,113000,145000,134500,125000,112000,229456,80500,91500,115000,134000,143000,137900,184000,145000,214000,147000,367294,127000,190000,132500,101800,142000,130000,138887,175500,195000,142500,265900,224900,248328,170000,465000,230000,178000,186500,169900,129500,119000,244000,171750,130000,294000,165400,127500,301500,99900,190000,151000,181000,128900,161500,180500,181000,183900,122000,378500,381000,144000,260000,185750,137000,177000,139000,137000,162000,197900,237000,68400,227000,180000,150500,139000,169000,132500,143000,190000,278000,281000,180500,119500,107500,162900,115000,138500,155000,140000,160000,154000,225000,177500,290000,232000,130000,325000,202500,138000,147000,179200,335000,203000,302000,333168,119000,206900,295493,208900,275000,111000,156500,72500,190000,82500,147000,55000,79000,130500,256000,176500,227000,132500,100000,125500,125000,167900,135000,52500,200000,128500,123000,155000,228500,177000,155835,108500,262500,283463,215000,122000,200000,171000,134900,410000,235000,170000,110000,149900,177500,315000,189000,260000,104900,156932,144152,216000,193000,127000,144000,232000,105000,165500,274300,466500,250000,239000,91000,117000,83000,167500,58500,237500,157000,112000,105000,125500,250000,136000,377500,131000,235000,124000,123000,163000,246578,281213,160000,137500,138000,137450,120000,193000,193879,282922,105000,275000,133000,112000,125500,215000,230000,140000,90000,257000,207000,175900,122500,340000,124000,223000,179900,127500,136500,274970,144000,142000,271000,140000,119000,182900,192140,143750,64500,186500,160000,174000,120500,394617,149700,197000,191000,149300,310000,121000,179600,129000,157900,240000,112000,92000,136000,287090,145000,84500,185000,175000,210000,266500,142125,147500]}], {\"title\":\"Histogram of SalePrice\",\"xaxis\":{\"title\":\"SalePrice\"}});\n",
       "\t\t}if(window.Plotly){plot1522243099251();}else if(!window.require){\n",
       "\t\t\tvar head = document.head || document.getElementsByTagName('head')[0];\n",
       "\t\t\tvar s = document.createElement('script');\n",
       "\t\t\ts.src = 'https://cdn.plot.ly/plotly-latest.min.js';\n",
       "\t\t\ts.type = 'text/javascript';\n",
       "\t\t\ts.async = false;\n",
       "\t\t\ts.onreadystatechange = s.onload = plot1522243099251;\n",
       "\t\t\thead.appendChild(s);\n",
       "\t\t}else{\n",
       "\t\t\trequire(['https://cdn.plot.ly/plotly-latest.min.js'], function(Plotly){\n",
       "\t\t\t\twindow.Plotly = Plotly;\n",
       "\t\t\t\tplot1522243099251();\n",
       "\t\t\t});\n",
       "\t\t}\n",
       "\t\t</script>\n",
       "\t\t</div>\n",
       "\t"
      ]
     },
     "execution_count": 10,
     "metadata": {},
     "output_type": "execute_result"
    }
   ],
   "source": [
    "// Hard to understand text, therefore we show it in a more visual way\n",
    "\n",
    "train.histogram('SalePrice').show();"
   ]
  },
  {
   "cell_type": "code",
   "execution_count": 11,
   "metadata": {},
   "outputs": [
    {
     "data": {
      "text/html": [
       "\n",
       "\t<div class=\"plotly-plot\">\n",
       "\t\t<div id=\"notebook-plot-1522243121119\"></div>\n",
       "\t\t<script>\n",
       "\t\tfunction plot1522243121119(){\n",
       "\t\t\tPlotly.plot('notebook-plot-1522243121119',[{\"z\":[[0.9999999999999999,0.011156478201382651,-0.03322551858568486,-0.02836475393753726,0.012608924775951675,-0.012712715387846622,-0.02199764185750547,-0.005024049041661072,-0.0059676719602816475,-0.00793970335771727,-0.015414566107911015,0.010496040954083078,0.005589848886158619,-0.044229958086591574,0.008272757661810242,0.0022885556008339267,-0.02015474521553459,0.005587452907357353,0.006783811284297695,0.03771855422321129,0.002951236357724619,0.027238724409455524,-0.019771632442392502,0.016569677112146037,0.017633778453766923,-0.029643197156402665,-0.00047691132479109127,0.0028892178657501186,-0.04663478886742759,0.0013302086301727834,0.05704390478925143,-0.006242404848302502,0.021172176550393437,0.0007117940170476526,-0.02191671944343107],[0.011156478201382651,1,-0.13978108172014628,0.03262770752184215,-0.05931581708410421,0.027850136946706617,0.04058104478406477,-0.06983574916710121,-0.06564857918852408,-0.14075948083501186,-0.2385184093151197,-0.2517583518783802,0.3078857207598595,0.04647375589951765,0.07485317965779985,0.003491025779044847,-0.002332534551802295,0.13160822241028147,0.1773543886439151,-0.023438028460627394,0.28172104026487815,0.040380064783675625,-0.04556934027456918,-0.040109793135783695,-0.09867154319256471,-0.012579358249219684,-0.006100121231942304,-0.012036621902094652,-0.04382454917560874,-0.02603017669980642,0.008282707579624377,-0.007683291329866057,-0.013584643238322456,-0.021407037851093515,-0.08428413512659556],[-0.03322551858568486,-0.13978108172014625,1.0000000000000002,0.10580574175496417,-0.005636270274099158,0.014227651757024683,0.013788427078154843,0.2141031307055784,0.1111697454962493,-0.0026183599500954127,0.260833134545157,0.29947457850776277,0.05098594829349355,0.0047789698663495556,0.263116167167148,0.15815453106001673,0.048045570888297584,0.12603062651964309,0.014259468566431626,0.11968990815131648,-0.017783870504841665,0.19001477762540783,0.2713640096245402,0.1548707397535402,0.18040275515111628,0.1716976872571129,0.08477380884021642,-0.018339733672212293,0.020422829586133378,0.043160377695251946,0.07767239188017358,0.03806769201918389,0.0012049882225877201,-0.01426140729853191,0.26384335387140506],[-0.02836475393753726,0.03262770752184215,0.10580574175496416,1.0000000000000002,-0.09193234263907198,0.5723227689623622,0.5506839241941737,0.23966596617889308,-0.05911869267069037,0.3081589269056429,0.5378084986123924,0.47622382907817784,0.2954928791997099,-0.030429283979604344,0.593007430028652,0.11109778614230417,-0.04015015766998932,0.5505997093682549,0.27345809864277043,0.10167635624178648,-0.1838822345492202,0.42745234327798576,0.39676503795208723,0.6006707165907192,0.5620217566126067,0.23892339224918963,0.30881882335945354,-0.1139368585956812,0.0303705671352648,0.064886360493516,0.06516584360589182,-0.03140621050074714,0.07081517178517305,-0.02734670832780745,0.7909816005838058],[0.012608924775951675,-0.059315817084104216,-0.005636270274099158,-0.09193234263907196,0.9999999999999998,-0.3759831956069887,0.07374149814528969,-0.04623085591822519,0.04022916989976745,-0.1368405698935216,-0.17109751462492093,-0.14420278404905873,0.02894211596581638,0.025494319914213765,-0.07968586538833784,-0.054941515432952684,0.11782091508139582,-0.19414948874930282,-0.06076932676159374,0.012980060094550614,-0.08700085543637703,-0.057583166112864854,-0.02381997776166175,-0.18575751057835976,-0.1515213705702289,-0.00333369928938554,-0.032588813521584784,0.07035618448230445,0.025503660024132308,0.054810528786113866,-0.001984942268184381,0.0687768060572499,-0.003510838599939767,0.043949745692480606,-0.07785589404867749],[-0.012712715387846624,0.027850136946706617,0.014227651757024683,0.5723227689623622,-0.3759831956069887,1,0.5928549763436499,0.24950319668479923,-0.04910683119623989,0.1490403919544003,0.39145200206609493,0.28198585869980175,0.01030765958436372,-0.18378434437372315,0.19900971367645792,0.1875985499971457,-0.03816180567123378,0.4682707871726733,0.2426559102410619,-0.0706512169047311,-0.17480024561497684,0.0955891282979513,0.1477163994124545,0.5378500917111045,0.4789538198934919,0.22488014230399722,0.18868584000173097,-0.3872677829280776,0.031354513064363834,-0.05036443453861187,0.004949727615943323,-0.03438313873672314,0.012398470595442237,-0.013617680001843126,0.522897332879497],[-0.02199764185750547,0.04058104478406477,0.013788427078154843,0.5506839241941737,0.07374149814528969,0.5928549763436499,1,0.12845054712828954,-0.06775851356598693,0.1811330870501685,0.2910655826041664,0.24037926760355544,0.14002377880486422,-0.06241910007833333,0.28738851965033246,0.11946987911124227,-0.012337032127799902,0.439046483872346,0.18333061171853302,-0.040580928067749565,-0.14959752104274615,0.19173981629280623,0.11258131843947494,0.4206221549432174,0.371599809497309,0.20572592049010344,0.22629763268298891,-0.1939191470992071,0.045285809814976076,-0.03874001074261011,0.0058293720371076566,-0.010286248783082194,0.021490002226876886,0.03574324712128282,0.5071009671113866],[-0.005024049041661072,-0.06983574916710121,0.21410313070557843,0.23966596617889308,-0.04623085591822519,0.24950319668479923,0.12845054712828952,0.9999999999999999,-0.05011740004715197,-0.4952514692570151,0.5223960519923905,0.44586265609200837,-0.13707898608005392,-0.06450259692146888,0.20817113014532854,0.649211753574274,0.067418477910119,0.0585431368615957,0.004262424384486864,-0.10735467682307208,-0.08100685077857576,0.044315623912920724,0.2600109202350414,0.22405352239399118,0.2969703853445149,0.20430614523740495,0.11176061335675155,-0.10230330550073291,0.026450506189898797,0.06202062266535036,0.14049128625495916,0.0035714734749547872,-0.015726948262154747,0.014358922393912428,0.3864198062421556],[-0.005967671960281648,-0.06564857918852407,0.11116974549624932,-0.05911869267069037,0.04022916989976744,-0.04910683119623989,-0.06775851356598692,-0.05011740004715197,1,-0.20929449241994605,0.10480953760636848,0.09711744845667053,-0.09926031602264505,0.014806997946834058,-0.009639891551805493,0.15867806078170335,0.07094813365590709,-0.07644386196518427,-0.032147837468965525,-0.015728113626581226,-0.040751236448406655,-0.03522654794752317,0.046920708826012285,-0.03826351286925234,-0.01822659190731662,0.06789832641361271,0.003092562209894402,0.03654333944820903,-0.029993397993921186,0.08887125137338725,0.041709054681332056,0.004939781228437642,-0.015210737972006741,0.03170563698488719,-0.011378121450215235],[-0.00793970335771727,-0.14075948083501186,-0.0026183599500954127,0.3081589269056429,-0.1368405698935216,0.14904039195440033,0.1811330870501685,-0.4952514692570151,-0.20929449241994602,1,0.415359605181589,0.3179874383527265,0.004469092144542404,0.028166688132741365,0.24025726834993558,-0.4229004773832176,-0.09580428815248486,0.28888605548691093,-0.04111753014455102,0.1666433169869641,0.030085868313999967,0.25064706137624687,0.05157488228954122,0.21417518975021713,0.18330269774258431,-0.005316424333062011,0.12900541461542128,-0.0025378545897515687,0.02076400569654789,-0.012579273444256864,-0.035092240793657525,-0.023836645134508012,0.034888443009081956,-0.041258194938762136,0.2144791055469684],[-0.015414566107911015,-0.2385184093151197,0.260833134545157,0.5378084986123924,-0.17109751462492093,0.391452002066095,0.2910655826041664,0.5223960519923905,0.10480953760636846,0.41535960518158904,1,0.8195299750050349,-0.1745119501349595,-0.033245387347456516,0.45486820254790217,0.3073505537355083,-0.0003145818198337179,0.3237224136066497,-0.0488037386352118,0.050449955512678536,-0.0689006426420163,0.28557256372579265,0.3395193238986536,0.4345848342916878,0.4866654637737959,0.23201860912901903,0.24726374628810788,-0.09547773670640775,0.03738372726300495,0.08448898591431146,0.12605313210083602,-0.018478922431472294,0.013196178616778511,-0.014968648018751135,0.6135805515591943],[0.010496040954083078,-0.2517583518783802,0.2994745785077627,0.4762238290781779,-0.1442027840490587,0.28198585869980175,0.2403792676035554,0.4458626560920083,0.09711744845667053,0.3179874383527265,0.8195299750050349,1.0000000000000002,-0.2026461810023194,-0.014240672666431196,0.566023968935749,0.24467110424771324,0.0019556535820488053,0.3806374949735075,-0.11991590879396002,0.12740074939236554,0.06810058817691282,0.40951597886682745,0.4105310846598426,0.4393168079906694,0.4897816541041917,0.23545862278369933,0.211671225497984,-0.06529170091030895,0.05610437448487506,0.08875807262015688,0.1315249756402804,-0.021095719463122563,0.03137156035207905,-0.013603770504648543,0.6058521846919149],[0.005589848886158619,0.30788572075985954,0.05098594829349356,0.2954928791997099,0.02894211596581638,0.010307659584363717,0.14002377880486422,-0.13707898608005392,-0.09926031602264505,0.004469092144542403,-0.17451195013495946,-0.2026461810023194,1.0000000000000002,0.06335295010932258,0.6875010641666011,-0.16949395173099996,-0.023854783937045276,0.42137798287597217,0.609707300271744,0.5029006133459015,0.05930575264821578,0.6164226354915355,0.19456089224132175,0.18392558307637713,0.13834695857186588,0.09216541758603805,0.2080260631813564,0.06198869077325135,-0.024357648422047264,0.04060644764100066,0.08148687804909883,0.016196874604387484,0.03516442736179079,-0.02869991393528526,0.3193338028320663],[-0.044229958086591574,0.04647375589951765,0.0047789698663495556,-0.03042928397960434,0.025494319914213765,-0.18378434437372315,-0.062419100078333324,-0.06450259692146888,0.01480699794683406,0.028166688132741365,-0.033245387347456516,-0.014240672666431196,0.06335295010932258,1,0.13468281300660132,-0.047143421898260617,-0.005841504819312212,-0.0007095096206725223,-0.027080049317169494,0.1056065685409079,0.007521744344233664,0.1311847759895491,-0.02127214341393865,-0.0944795201559344,-0.06760141323952247,-0.02544364798879108,0.01825103905399924,0.06108123777122724,-0.004295610410300155,0.026799413021772984,0.062157372269189465,-0.0037928707799964414,-0.022173960579537834,-0.028920879782297675,-0.025606130000679662],[0.008272757661810242,0.07485317965779986,0.2631161671671479,0.593007430028652,-0.07968586538833783,0.19900971367645795,0.28738851965033246,0.2081711301453285,-0.009639891551805495,0.24025726834993558,0.45486820254790217,0.566023968935749,0.6875010641666012,0.13468281300660132,1,0.034836049544905955,-0.018918483170635124,0.6300116462511157,0.4157716361052606,0.521269510919,0.10006316473775445,0.8254893743088374,0.46167913376144315,0.46724741879518567,0.468997477322965,0.2474328205188493,0.3302239617120002,0.0091132103260031,0.020643189710186402,0.10151039568208554,0.17020533600055876,-0.0024156395502936807,0.05023968081827266,-0.036525819624722865,0.7086244776126523],[0.0022885556008339267,0.0034910257790448465,0.15815453106001676,0.11109778614230417,-0.05494151543295269,0.18759854999714567,0.11946987911124225,0.649211753574274,0.15867806078170335,-0.4229004773832176,0.3073505537355083,0.24467110424771324,-0.16949395173099996,-0.04714342189826061,0.03483604954490596,1.0000000000000002,-0.14787096054760543,-0.06451204863131628,-0.03090495914253331,-0.15067280920796092,-0.041502546431482185,-0.053275236123397476,0.1379277084271997,0.13188122440619715,0.17918948042023364,0.17531519007972607,0.06734146137698341,-0.04991064908375269,-0.00010609153998427051,0.023147725763574097,0.06761555618047489,-0.02304702486861707,-0.025360894315260125,0.06704913767140726,0.22712223313149754],[-0.02015474521553459,-0.0023325345518022955,0.04804557088829758,-0.04015015766998932,0.11782091508139583,-0.03816180567123378,-0.012337032127799902,0.067418477910119,0.07094813365590709,-0.09580428815248485,-0.000314581819833718,0.0019556535820488053,-0.023854783937045276,-0.005841504819312212,-0.018918483170635124,-0.14787096054760543,1,-0.054535811983637036,-0.012339900052275487,0.04651884838995221,-0.03794435022720045,-0.023836341262221027,0.028975586646260078,-0.020891058996878643,-0.0245355795788797,0.04016122325953597,-0.025323757889057965,-0.008555333868578511,0.03511363088677254,0.03212140720908475,0.02002462983851612,-0.007366524543625775,0.032872705234091096,-0.04652388177402207,-0.016844154297359304],[0.005587452907357353,0.1316082224102815,0.1260306265196431,0.5505997093682549,-0.19414948874930282,0.46827078717267323,0.43904648387234607,0.05854313686159571,-0.07644386196518425,0.28888605548691093,0.3237224136066497,0.3806374949735075,0.42137798287597217,-0.0007095096206725222,0.6300116462511157,-0.06451204863131628,-0.054535811983637036,0.9999999999999998,0.13638058874914522,0.36325198302328027,0.13311521419603628,0.5547842535334814,0.24367050307991167,0.46967204326763023,0.40565620845400896,0.18770321383582625,0.25997742546825076,-0.11509296346134516,0.03535301658385347,-0.00810609332811196,0.04960382558403127,-0.014289844970847612,0.05587212899172349,-0.019668840691523633,0.560663762748446],[0.006783811284297695,0.17735438864391512,0.014259468566431626,0.27345809864277043,-0.06076932676159373,0.24265591024106192,0.18333061171853302,0.004262424384486864,-0.03214783746896552,-0.04111753014455103,-0.0488037386352118,-0.11991590879396004,0.609707300271744,-0.02708004931716949,0.41577163610526063,-0.030904959142533307,-0.012339900052275487,0.13638058874914522,1,0.2266514841509415,-0.06826254889693903,0.34341485754091594,0.2036485080952148,0.21917815216715575,0.16354936401660516,0.10808030267536116,0.19974014751279154,-0.09531652573608856,-0.004972488417316131,0.07242584517037984,0.022381498055409996,0.0012901448492835274,-0.009049888212650384,-0.010268668868103807,0.2841076755947784],[0.03771855422321129,-0.02343802846062739,0.11968990815131648,0.10167635624178648,0.012980060094550614,-0.07065121690473108,-0.040580928067749565,-0.10735467682307208,-0.015728113626581226,0.1666433169869641,0.050449955512678536,0.12740074939236554,0.5029006133459015,0.10560656854090791,0.521269510919,-0.15067280920796092,0.04651884838995221,0.3632519830232802,0.22665148415094147,1,0.19859675770713364,0.6766199357426479,0.10756968099132422,0.08610643768835367,0.06525252989881662,0.04685377306989485,0.09380957160591531,0.04157043451959855,-0.024477796366114943,0.04429969112713408,0.0707025835654743,0.007766971998717642,0.04654385993628256,-0.036013892833715,0.16821315430074157],[0.002951236357724619,0.28172104026487815,-0.017783870504841665,-0.18388223454922023,-0.08700085543637703,-0.17480024561497684,-0.14959752104274618,-0.08100685077857576,-0.040751236448406655,0.030085868313999967,-0.0689006426420163,0.06810058817691281,0.05930575264821578,0.0075217443442336645,0.10006316473775445,-0.041502546431482185,-0.03794435022720045,0.13311521419603628,-0.06826254889693903,0.19859675770713364,1,0.2560454085359448,-0.12393623529689293,-0.050633892402217405,-0.06443304718314379,-0.0901302726790331,-0.07009060989258528,0.037312385032969395,-0.02460035869053136,-0.05161336606148035,-0.014525116015980336,0.06234072400438208,0.026588907230915112,0.03168720650065392,-0.1359073708421401],[0.027238724409455524,0.04038006478367562,0.19001477762540783,0.42745234327798576,-0.057583166112864854,0.09558912829795131,0.19173981629280626,0.04431562391292073,-0.03522654794752317,0.25064706137624687,0.2855725637257926,0.40951597886682745,0.6164226354915354,0.1311847759895491,0.8254893743088374,-0.05327523612339748,-0.023836341262221023,0.5547842535334814,0.34341485754091594,0.6766199357426479,0.2560454085359449,0.9999999999999999,0.3261144801771965,0.36228857081477084,0.33782212063683476,0.16598388371493475,0.23419158783159677,0.004151299023856413,-0.0066832410109395265,0.059382599559411685,0.08375734951492171,0.0247628841635848,0.036907077159844086,-0.034516354302174077,0.5337231555820233],[-0.019771632442392502,-0.04556934027456918,0.27136400962454016,0.39676503795208723,-0.02381997776166175,0.1477163994124545,0.11258131843947493,0.26001092023504146,0.046920708826012285,0.05157488228954123,0.3395193238986536,0.4105310846598426,0.19456089224132178,-0.021272143413938654,0.46167913376144315,0.1379277084271997,0.02897558664626008,0.24367050307991164,0.20364850809521481,0.10756968099132423,-0.12393623529689295,0.32611448017719646,0.9999999999999998,0.3007887663013489,0.2691412380738697,0.2000187957590226,0.16940532713120185,-0.024821868537067554,0.01125723899277474,0.18453026951684992,0.09507352203619378,0.001408605443045681,0.04635710249771922,-0.024095564980698973,0.46692883675152397],[0.016569677112146037,-0.040109793135783695,0.1548707397535402,0.6006707165907192,-0.18575751057835976,0.5378500917111045,0.4206221549432174,0.22405352239399115,-0.038263512869252336,0.21417518975021713,0.4345848342916878,0.43931680799066936,0.18392558307637713,-0.0944795201559344,0.46724741879518567,0.13188122440619718,-0.020891058996878643,0.46967204326763023,0.21917815216715572,0.08610643768835366,-0.050633892402217405,0.3622885708147709,0.3007887663013489,1.0000000000000002,0.8824754142814594,0.22634213846985698,0.21356944558969093,-0.15143416002683885,0.035765285146453434,0.05049379192719809,0.020933531041466003,-0.04308012810223079,0.04052173012825167,-0.03911690411283678,0.6404091972583503],[0.017633778453766923,-0.0986715431925647,0.18040275515111628,0.5620217566126066,-0.15152137057022894,0.4789538198934919,0.371599809497309,0.2969703853445149,-0.018226591907316618,0.18330269774258431,0.4866654637737959,0.4897816541041917,0.13834695857186588,-0.06760141323952247,0.46899747732296493,0.17918948042023364,-0.024535579578879703,0.405656208454009,0.16354936401660514,0.06525252989881662,-0.06443304718314379,0.3378221206368348,0.2691412380738697,0.8824754142814594,1,0.2246663071787637,0.2414346721380877,-0.1217767195610037,0.035086700208159766,0.05141176244520848,0.06104727170205945,-0.027399914412625268,0.027973799823540483,-0.02737794041855883,0.6234314389183598],[-0.02964319715640266,-0.012579358249219684,0.1716976872571129,0.23892339224918965,-0.0033336992893855406,0.22488014230399725,0.20572592049010344,0.20430614523740495,0.06789832641361271,-0.005316424333062011,0.23201860912901903,0.2354586227836993,0.09216541758603806,-0.02544364798879108,0.2474328205188493,0.1753151900797261,0.040161223259535965,0.18770321383582625,0.10808030267536116,0.04685377306989485,-0.0901302726790331,0.16598388371493475,0.20001879575902257,0.22634213846985698,0.22466630717876368,0.9999999999999999,0.058660608565887964,-0.12598888803760017,-0.032770633593574475,-0.07418135123983312,0.07337820695645628,-0.00955122823837265,0.021011044294297333,0.022270451009255482,0.3244134445681306],[-0.00047691132479109127,-0.006100121231942304,0.08477380884021642,0.3088188233594535,-0.03258881352158479,0.18868584000173097,0.22629763268298891,0.11176061335675157,0.003092562209894402,0.12900541461542125,0.24726374628810785,0.211671225497984,0.2080260631813564,0.01825103905399924,0.33022396171200025,0.06734146137698341,-0.025323757889057965,0.25997742546825076,0.19974014751279157,0.0938095716059153,-0.07009060989258528,0.23419158783159677,0.16940532713120182,0.21356944558969093,0.24143467213808772,0.058660608565887964,1,-0.09307931750864991,-0.005842499340135848,0.07430394385024283,0.06076211148992523,-0.01858373898764936,0.07125488475868917,-0.05761936014209519,0.3158562271160554],[0.0028892178657501186,-0.012036621902094652,-0.018339733672212293,-0.1139368585956812,0.07035618448230443,-0.3872677829280776,-0.1939191470992071,-0.10230330550073291,0.036543339448209027,-0.0025378545897515687,-0.09547773670640775,-0.06529170091030895,0.06198869077325135,0.06108123777122723,0.0091132103260031,-0.04991064908375269,-0.008555333868578511,-0.11509296346134518,-0.09531652573608855,0.04157043451959855,0.037312385032969395,0.004151299023856413,-0.024821868537067554,-0.15143416002683885,-0.12177671956100368,-0.1259888880376002,-0.09307931750864991,0.9999999999999999,-0.03730528278804628,-0.0828642448326042,0.054202562292138386,0.01836060013944869,-0.0288872657071422,-0.009915936955525258,-0.12857795792595617],[-0.04663478886742759,-0.04382454917560874,0.020422829586133374,0.030370567135264797,0.025503660024132305,0.031354513064363834,0.045285809814976076,0.026450506189898797,-0.029993397993921186,0.02076400569654789,0.03738372726300494,0.05610437448487506,-0.024357648422047264,-0.004295610410300155,0.020643189710186402,-0.00010609153998427051,0.035113630886772544,0.03535301658385347,-0.004972488417316132,-0.024477796366114947,-0.024600358690531364,-0.0066832410109395265,0.01125723899277474,0.035765285146453434,0.03508670020815976,-0.032770633593574475,-0.005842499340135848,-0.03730528278804628,1.0000000000000002,-0.03143584703909554,-0.007991548872868542,0.0003539652779393477,0.029473795249940253,0.01864492540474381,0.0445836653357484],[0.0013302086301727834,-0.026030176699806423,0.043160377695251946,0.064886360493516,0.054810528786113866,-0.05036443453861186,-0.03874001074261012,0.06202062266535037,0.08887125137338725,-0.012579273444256864,0.08448898591431148,0.08875807262015686,0.040606447641000666,0.026799413021772984,0.10151039568208554,0.023147725763574097,0.03212140720908475,-0.008106093328111958,0.07242584517037984,0.04429969112713409,-0.05161336606148035,0.05938259955941168,0.18453026951684992,0.05049379192719809,0.05141176244520849,-0.07418135123983313,0.07430394385024283,-0.0828642448326042,-0.03143584703909555,1,0.051307394517907716,0.03194576077490662,0.023216991793306975,0.01069410600378379,0.11144657114291125],[0.057043904789251434,0.008282707579624378,0.07767239188017358,0.06516584360589181,-0.001984942268184381,0.004949727615943323,0.0058293720371076566,0.14049128625495916,0.041709054681332056,-0.035092240793657525,0.12605313210083602,0.13152497564028043,0.08148687804909883,0.062157372269189465,0.17020533600055873,0.06761555618047489,0.02002462983851612,0.04960382558403127,0.02238149805541,0.0707025835654743,-0.014525116015980336,0.08375734951492173,0.09507352203619378,0.020933531041466,0.06104727170205946,0.07337820695645628,0.06076211148992523,0.054202562292138386,-0.00799154887286854,0.051307394517907716,1,0.029668650854019502,-0.033736640262790586,-0.059688931675258836,0.09240354949187167],[-0.006242404848302502,-0.007683291329866058,0.03806769201918389,-0.03140621050074714,0.06877680605724991,-0.03438313873672314,-0.010286248783082196,0.0035714734749547877,0.004939781228437642,-0.023836645134508012,-0.01847892243147229,-0.021095719463122563,0.01619687460438748,-0.0037928707799964414,-0.002415639550293681,-0.023047024868617073,-0.007366524543625775,-0.014289844970847612,0.0012901448492835276,0.0077669719987176426,0.06234072400438207,0.024762884163584804,0.001408605443045681,-0.04308012810223079,-0.027399914412625268,-0.00955122823837265,-0.01858373898764936,0.018360600139448693,0.0003539652779393477,0.03194576077490662,0.0296686508540195,1,-0.006494550221282479,0.004906262452666625,-0.02118957964030351],[0.02117217655039344,-0.013584643238322456,0.0012049882225877201,0.07081517178517305,-0.0035108385999397668,0.012398470595442237,0.021490002226876886,-0.015726948262154747,-0.015210737972006743,0.034888443009081956,0.013196178616778511,0.03137156035207905,0.03516442736179079,-0.02217396057953783,0.05023968081827266,-0.025360894315260125,0.0328727052340911,0.05587212899172349,-0.009049888212650384,0.04654385993628256,0.026588907230915112,0.036907077159844086,0.04635710249771922,0.04052173012825167,0.027973799823540483,0.021011044294297333,0.07125488475868917,-0.0288872657071422,0.029473795249940257,0.023216991793306975,-0.033736640262790586,-0.006494550221282478,1.0000000000000002,-0.1457214126753875,0.04643224522381927],[0.0007117940170476525,-0.021407037851093512,-0.014261407298531908,-0.02734670832780745,0.043949745692480606,-0.013617680001843125,0.03574324712128282,0.01435892239391243,0.03170563698488718,-0.04125819493876214,-0.014968648018751134,-0.013603770504648541,-0.028699913935285256,-0.028920879782297675,-0.036525819624722865,0.06704913767140726,-0.04652388177402207,-0.019668840691523633,-0.010268668868103807,-0.036013892833715,0.03168720650065392,-0.03451635430217408,-0.024095564980698973,-0.03911690411283678,-0.02737794041855883,0.022270451009255485,-0.05761936014209519,-0.009915936955525258,0.01864492540474381,0.01069410600378379,-0.059688931675258836,0.004906262452666625,-0.1457214126753875,0.9999999999999998,-0.028922585168730426],[-0.02191671944343107,-0.08428413512659556,0.2638433538714051,0.7909816005838058,-0.07785589404867749,0.522897332879497,0.5071009671113866,0.3864198062421556,-0.011378121450215235,0.21447910554696842,0.6135805515591943,0.6058521846919148,0.3193338028320663,-0.02560613000067966,0.7086244776126523,0.22712223313149751,-0.016844154297359304,0.5606637627484461,0.2841076755947784,0.16821315430074155,-0.1359073708421401,0.5337231555820233,0.46692883675152397,0.6404091972583503,0.6234314389183598,0.3244134445681306,0.3158562271160554,-0.12857795792595617,0.0445836653357484,0.11144657114291126,0.09240354949187168,-0.02118957964030351,0.04643224522381927,-0.028922585168730426,0.9999999999999998]],\"x\":[\"Id\",\"MSSubClass\",\"LotArea\",\"OverallQual\",\"OverallCond\",\"YearBuilt\",\"YearRemodAdd\",\"BsmtFinSF1\",\"BsmtFinSF2\",\"BsmtUnfSF\",\"TotalBsmtSF\",\"1stFlrSF\",\"2ndFlrSF\",\"LowQualFinSF\",\"GrLivArea\",\"BsmtFullBath\",\"BsmtHalfBath\",\"FullBath\",\"HalfBath\",\"BedroomAbvGr\",\"KitchenAbvGr\",\"TotRmsAbvGrd\",\"Fireplaces\",\"GarageCars\",\"GarageArea\",\"WoodDeckSF\",\"OpenPorchSF\",\"EnclosedPorch\",\"3SsnPorch\",\"ScreenPorch\",\"PoolArea\",\"MiscVal\",\"MoSold\",\"YrSold\",\"SalePrice\"],\"y\":[\"Id\",\"MSSubClass\",\"LotArea\",\"OverallQual\",\"OverallCond\",\"YearBuilt\",\"YearRemodAdd\",\"BsmtFinSF1\",\"BsmtFinSF2\",\"BsmtUnfSF\",\"TotalBsmtSF\",\"1stFlrSF\",\"2ndFlrSF\",\"LowQualFinSF\",\"GrLivArea\",\"BsmtFullBath\",\"BsmtHalfBath\",\"FullBath\",\"HalfBath\",\"BedroomAbvGr\",\"KitchenAbvGr\",\"TotRmsAbvGrd\",\"Fireplaces\",\"GarageCars\",\"GarageArea\",\"WoodDeckSF\",\"OpenPorchSF\",\"EnclosedPorch\",\"3SsnPorch\",\"ScreenPorch\",\"PoolArea\",\"MiscVal\",\"MoSold\",\"YrSold\",\"SalePrice\"],\"type\":\"heatmap\"}], {\"title\":\"Correlation Map\"});\n",
       "\t\t}if(window.Plotly){plot1522243121119();}else if(!window.require){\n",
       "\t\t\tvar head = document.head || document.getElementsByTagName('head')[0];\n",
       "\t\t\tvar s = document.createElement('script');\n",
       "\t\t\ts.src = 'https://cdn.plot.ly/plotly-latest.min.js';\n",
       "\t\t\ts.type = 'text/javascript';\n",
       "\t\t\ts.async = false;\n",
       "\t\t\ts.onreadystatechange = s.onload = plot1522243121119;\n",
       "\t\t\thead.appendChild(s);\n",
       "\t\t}else{\n",
       "\t\t\trequire(['https://cdn.plot.ly/plotly-latest.min.js'], function(Plotly){\n",
       "\t\t\t\twindow.Plotly = Plotly;\n",
       "\t\t\t\tplot1522243121119();\n",
       "\t\t\t});\n",
       "\t\t}\n",
       "\t\t</script>\n",
       "\t\t</div>\n",
       "\t"
      ]
     },
     "execution_count": 11,
     "metadata": {},
     "output_type": "execute_result"
    }
   ],
   "source": [
    "train.corrmap().show()"
   ]
  },
  {
   "cell_type": "markdown",
   "metadata": {},
   "source": [
    "- A value of 1 means the features are positively correlated \n",
    "- Zero correlation means the featurs are not related. \n",
    "- Negative correlation means when the value of one feature rises, the value of the other feature falls. \n",
    "- Positive correlations are in red. Negative correlations are in blue. \n",
    "- The correlation between two identical features is always 1. You can see that in the map with the diagonal red line.\n",
    "---\n",
    "- “total room above ground”, “living area” and “overall quality” are positively correlated with “sale price”. \n",
    "- The largest the living area, the more expensive the house is. \n",
    "- The feature “year built” is negatively correlated with the feature “enclosed porch area”. This means, newer houses have smaller porches."
   ]
  },
  {
   "cell_type": "markdown",
   "metadata": {},
   "source": [
    "Now, correlation plot / map are good at directing your attention to interesting relationships between features. We then use scatter plot for understanding the nature of the relationship between the features. "
   ]
  },
  {
   "cell_type": "code",
   "execution_count": 12,
   "metadata": {},
   "outputs": [
    {
     "data": {
      "text/html": [
       "\n",
       "\t<div class=\"plotly-plot\">\n",
       "\t\t<div id=\"notebook-plot-1522243172314\"></div>\n",
       "\t\t<script>\n",
       "\t\tfunction plot1522243172314(){\n",
       "\t\t\tPlotly.plot('notebook-plot-1522243172314',[{\"x\":[208500,181500,223500,140000,250000,143000,307000,200000,129900,118000,129500,345000,144000,279500,157000,132000,149000,90000,159000,139000,325300,139400,230000,129900,154000,256300,134800,306000,207500,68500,40000,149350,179900,165500,277500,309000,145000,153000,109000,82000,160000,170000,144000,130250,141000,319900,239686,249700,113000,127000,177000,114500,110000,385000,130000,180500,172500,196500,438780,124900,158000,101000,202500,140000,219500,317000,180000,226000,80000,225000,244000,129500,185000,144900,107400,91000,135750,127000,136500,110000,193500,153500,245000,126500,168500,260000,174000,164500,85000,123600,109900,98600,163500,133900,204750,185000,214000,94750,83000,128950,205000,178000,118964,198900,169500,250000,100000,115000,115000,190000,136900,180000,383970,217000,259500,176000,139000,155000,320000,163990,180000,100000,136000,153900,181000,84500,128000,87000,155000,150000,226000,244000,150750,220000,180000,174000,143000,171000,230000,231500,115000,260000,166000,204000,125000,130000,105000,222500,141000,115000,122000,372402,190000,235000,125000,79000,109500,269500,254900,320000,162500,412500,220000,103200,152000,127500,190000,325624,183500,228000,128500,215000,239000,163000,184000,243000,211000,172500,501837,100000,177000,200100,120000,200000,127000,475000,173000,135000,153337,286000,315000,184000,192000,130000,127000,148500,311872,235000,104000,274900,140000,171500,112000,149000,110000,180500,143900,141000,277000,145000,98000,186000,252678,156000,161750,134450,210000,107000,311500,167240,204900,200000,179900,97000,386250,112000,290000,106000,125000,192500,148000,403000,94500,128200,216500,89500,185500,194500,318000,113000,262500,110500,79000,120000,205000,241500,137000,140000,180000,277000,76500,235000,173000,158000,145000,230000,207500,220000,231500,97000,176000,276000,151000,130000,73000,175500,185000,179500,120500,148000,266000,241500,290000,139000,124500,205000,201000,141000,415298,192000,228500,185000,207500,244600,179200,164700,159000,88000,122000,153575,233230,135900,131000,235000,167000,142500,152000,239000,175000,158500,157000,267000,205000,149900,295000,305900,225000,89500,82500,360000,165600,132000,119900,375000,178000,188500,260000,270000,260000,187500,342643,354000,301000,126175,242000,87000,324000,145250,214500,78000,119000,139000,284000,207000,192000,228950,377426,214000,202500,155000,202900,82000,87500,266000,85000,140200,151500,157500,154000,437154,318061,190000,95000,105900,140000,177500,173000,134000,130000,280000,156000,145000,198500,118000,190000,147000,159000,165000,132000,162000,172400,134432,125000,123000,219500,61000,148000,340000,394432,179000,127000,187750,213500,76000,240000,192000,81000,125000,191000,426000,119000,215000,106500,100000,109000,129000,123000,169500,67000,241000,245500,164990,108000,258000,168000,150000,115000,177000,280000,339750,60000,145000,222000,115000,228000,181134,149500,239000,126000,142000,206300,215000,113000,315000,139000,135000,275000,109008,195400,175000,85400,79900,122500,181000,81000,212000,116000,119000,90350,110000,555000,118000,162900,172500,210000,127500,190000,199900,119500,120000,110000,280000,204000,210000,188000,175500,98000,256000,161000,110000,263435,155000,62383,188700,124000,178740,167000,146500,250000,187000,212000,190000,148000,440000,251000,132500,208900,380000,297000,89471,326000,374000,155000,164000,132500,147000,156000,175000,160000,86000,115000,133000,172785,155000,91300,34900,430000,184000,130000,120000,113000,226700,140000,289000,147000,124500,215000,208300,161000,124500,164900,202665,129900,134000,96500,402861,158000,265000,211000,234000,106250,150000,159000,184750,315750,176000,132000,446261,86000,200624,175000,128000,107500,39300,178000,107500,188000,111250,158000,272000,315000,248000,213250,133000,179665,229000,210000,129500,125000,263000,140000,112500,255500,108000,284000,113000,141000,108000,175000,234000,121500,170000,108000,185000,268000,128000,325000,214000,316600,135960,142600,120000,224500,170000,139000,118500,145000,164500,146000,131500,181900,253293,118500,325000,133000,369900,130000,137000,143000,79500,185900,451950,138000,140000,110000,319000,114504,194201,217500,151000,275000,141000,220000,151000,221000,205000,152000,225000,359100,118500,313000,148000,261500,147000,75500,137500,183200,105500,314813,305000,67000,240000,135000,168500,165150,160000,139900,153000,135000,168500,124000,209500,82500,139400,144000,200000,60000,93000,85000,264561,274000,226000,345000,152000,370878,143250,98300,155000,155000,84500,205950,108000,191000,135000,350000,88000,145500,149000,97500,167000,197900,402000,110000,137500,423000,230500,129000,193500,168000,137500,173500,103600,165000,257500,140000,148500,87000,109500,372500,128500,143000,159434,173000,285000,221000,207500,227875,148800,392000,194700,141000,755000,335000,108480,141500,176000,89000,123500,138500,196000,312500,140000,361919,140000,213000,55000,302000,254000,179540,109900,52000,102776,189000,129000,130500,165000,159500,157000,341000,128500,275000,143000,124500,135000,320000,120500,222000,194500,110000,103000,236500,187500,222500,131400,108000,163000,93500,239900,179000,190000,132000,142000,179000,175000,180000,299800,236000,265979,260400,98000,96500,162000,217000,275500,156000,172500,212000,158900,179400,290000,127500,100000,215200,337000,270000,264132,196500,160000,216837,538000,134900,102000,107000,114500,395000,162000,221500,142500,144000,135000,176000,175900,187100,165500,128000,161500,139000,233000,107900,187500,160200,146800,269790,225000,194500,171000,143500,110000,485000,175000,200000,109900,189000,582933,118000,227680,135500,223500,159950,106000,181000,144500,55993,157900,116000,224900,137000,271000,155000,224000,183000,93000,225000,139500,232600,385000,109500,189000,185000,147400,166000,151000,237000,167000,139950,128000,153500,100000,144000,130500,140000,157500,174900,141000,153900,171000,213000,133500,240000,187000,131500,215000,164000,158000,170000,127000,147000,174000,152000,250000,189950,131500,152000,132500,250580,148500,248900,129000,169000,236000,109500,200500,116000,133000,66500,303477,132250,350000,148000,136500,157000,187500,178000,118500,100000,328900,145000,135500,268000,149500,122900,172500,154500,165000,118858,140000,106500,142953,611657,135000,110000,153000,180000,240000,125500,128000,255000,250000,131000,174000,154300,143500,88000,145000,173733,75000,35311,135000,238000,176500,201000,145900,169990,193000,207500,175000,285000,176000,236500,222000,201000,117500,320000,190000,242000,79900,184900,253000,239799,244400,150900,214000,150000,143000,137500,124900,143000,270000,192500,197500,129000,119900,133900,172000,127500,145000,124000,132000,185000,155000,116500,272000,155000,239000,214900,178900,160000,135000,37900,140000,135000,173000,99500,182000,167500,165000,85500,199900,110000,139000,178400,336000,159895,255900,126000,125000,117000,395192,195000,197000,348000,168000,187000,173900,337500,121600,136500,185000,91000,206000,82000,86000,232000,136905,181000,149900,163500,88000,240000,102000,135000,100000,165000,85000,119200,227000,203000,187500,160000,213490,176000,194000,87000,191000,287000,112500,167500,293077,105000,118000,160000,197000,310000,230000,119750,84000,315500,287000,97000,80000,155000,173000,196000,262280,278000,139600,556581,145000,115000,84900,176485,200141,165000,144500,255000,180000,185850,248000,335000,220000,213500,81000,90000,110500,154000,328000,178000,167900,151400,135000,135000,154000,91500,159500,194000,219500,170000,138800,155900,126000,145000,133000,192000,160000,187500,147000,83500,252000,137500,197000,92900,160000,136500,146000,129000,176432,127000,170000,128000,157000,60000,119500,135000,159500,106000,325000,179900,274725,181000,280000,188000,205000,129900,134500,117000,318000,184100,130000,140000,133700,118400,212900,112000,118000,163900,115000,174000,259000,215000,140000,135000,93500,117500,239500,169000,102000,119000,94000,196000,144000,139000,197500,424870,80000,80000,149000,180000,174500,116900,143000,124000,149900,230000,120500,201800,218000,179900,230000,235128,185000,146000,224000,129000,108959,194000,233170,245350,173000,235000,625000,171000,163000,171900,200500,239000,285000,119500,115000,154900,93000,250000,392500,745000,120000,186700,104900,95000,262000,195000,189000,168000,174000,125000,165000,158000,176000,219210,144000,178000,148000,116050,197900,117000,213000,153500,271900,107000,200000,140000,290000,189000,164000,113000,145000,134500,125000,112000,229456,80500,91500,115000,134000,143000,137900,184000,145000,214000,147000,367294,127000,190000,132500,101800,142000,130000,138887,175500,195000,142500,265900,224900,248328,170000,465000,230000,178000,186500,169900,129500,119000,244000,171750,130000,294000,165400,127500,301500,99900,190000,151000,181000,128900,161500,180500,181000,183900,122000,378500,381000,144000,260000,185750,137000,177000,139000,137000,162000,197900,237000,68400,227000,180000,150500,139000,169000,132500,143000,190000,278000,281000,180500,119500,107500,162900,115000,138500,155000,140000,160000,154000,225000,177500,290000,232000,130000,325000,202500,138000,147000,179200,335000,203000,302000,333168,119000,206900,295493,208900,275000,111000,156500,72500,190000,82500,147000,55000,79000,130500,256000,176500,227000,132500,100000,125500,125000,167900,135000,52500,200000,128500,123000,155000,228500,177000,155835,108500,262500,283463,215000,122000,200000,171000,134900,410000,235000,170000,110000,149900,177500,315000,189000,260000,104900,156932,144152,216000,193000,127000,144000,232000,105000,165500,274300,466500,250000,239000,91000,117000,83000,167500,58500,237500,157000,112000,105000,125500,250000,136000,377500,131000,235000,124000,123000,163000,246578,281213,160000,137500,138000,137450,120000,193000,193879,282922,105000,275000,133000,112000,125500,215000,230000,140000,90000,257000,207000,175900,122500,340000,124000,223000,179900,127500,136500,274970,144000,142000,271000,140000,119000,182900,192140,143750,64500,186500,160000,174000,120500,394617,149700,197000,191000,149300,310000,121000,179600,129000,157900,240000,112000,92000,136000,287090,145000,84500,185000,175000,210000,266500,142125,147500],\"y\":[1710,1262,1786,1717,2198,1362,1694,2090,1774,1077,1040,2324,912,1494,1253,854,1004,1296,1114,1339,2376,1108,1795,1060,1060,1600,900,1704,1600,520,1317,1228,1234,1700,1561,2452,1097,1297,1057,1152,1324,1328,884,938,1150,1752,2149,1656,1452,955,1470,1176,816,1842,1360,1425,1739,1720,2945,780,1158,1111,1370,1710,2034,2473,2207,1479,747,2287,2223,845,1718,1086,1605,988,952,1285,1768,1230,2142,1337,1563,1065,1474,2417,1560,1224,1526,990,1040,1235,964,2291,1786,1470,1588,960,835,1225,1610,1732,1535,1226,1818,1992,1047,789,1517,1844,1855,1430,2696,2259,2320,1458,1092,1125,3222,1456,988,1123,1080,1199,1586,754,958,840,1348,1053,2157,2054,1327,1296,1721,1682,1214,1959,1852,1764,864,1734,1385,1501,1728,1709,875,2035,1080,1344,969,1710,1993,1252,1200,1096,1040,1968,1947,2462,1232,2668,1541,882,1616,1355,1867,2161,1720,1707,1382,1656,1767,1362,1651,2158,2060,1920,2234,968,1525,1802,1340,2082,1252,3608,1217,1656,1224,1593,2727,1479,1431,1709,864,1456,1726,3112,2229,1713,1121,1279,1310,848,1284,1442,1696,1100,2062,1092,864,1212,1852,990,1392,1236,1436,1328,1954,1248,1498,2267,1552,864,2392,1302,2520,987,912,1555,1194,2794,987,894,1960,987,1414,1744,1694,1487,1566,866,1440,1217,2110,1872,1928,1375,1668,2144,1306,1625,1640,1302,1314,2291,1728,1604,1792,882,1382,2574,1212,1316,764,1422,1511,2192,778,1113,1939,1363,2270,1632,816,1548,1560,864,2121,2022,1982,1262,1314,1468,1575,1250,1734,858,900,1396,1919,1716,1716,2263,1644,1003,1558,1950,1743,1152,1336,2452,1541,894,3493,2000,2243,1406,861,1944,1501,972,1118,2036,1641,1432,2353,1959,2646,1472,2596,2468,2730,1163,2978,803,1719,1383,2134,1192,1728,1056,1629,1358,1638,1786,1922,1536,1621,1215,1908,841,1040,1684,1112,1577,958,1478,1626,2728,1869,1453,1111,720,1595,1200,1167,1142,1352,1924,912,1505,1922,987,1574,1344,1394,1431,1268,1287,1664,1588,752,1319,1928,904,914,2466,1856,1800,1691,1301,1797,784,1953,1269,1184,1125,1479,2332,1367,1961,882,788,1034,1144,894,1812,1077,1550,1288,1310,672,2263,1572,1620,1639,1680,2172,2078,1276,1056,1478,1028,2097,1340,1400,2624,1134,1056,1344,1602,988,2630,1196,1389,1644,907,1208,1412,987,1198,1365,1604,630,1661,1118,904,694,1196,2402,1440,1573,1258,1908,1689,1888,1886,1376,1183,813,1533,1756,1590,1728,1242,1344,1663,1666,1203,1935,1135,864,1660,1040,1414,1277,1644,1634,1710,1502,1969,1072,1976,1652,970,1493,2643,1718,1131,1850,1792,1826,1216,999,1113,1073,1484,2414,630,1304,1578,1456,1269,886,720,3228,1820,899,912,1218,1768,1214,1801,1322,1960,1911,1218,1378,1041,1363,1368,864,1080,789,2020,2119,2344,1796,2080,1294,1244,1664,4676,2398,1266,928,2713,605,2515,1509,1362,827,334,1414,1347,1724,864,1159,1601,1838,2285,1680,767,1496,2183,1635,768,825,2094,1069,928,1717,1126,2046,1048,1092,1336,1446,1557,1392,1389,996,1674,2295,1647,2504,1535,2132,943,1728,864,1692,1430,1109,1216,1477,1320,1392,1795,1429,2042,816,2775,1573,2028,838,860,1473,935,1582,2296,816,848,924,1826,1368,1402,1647,1556,1904,1375,1915,1200,1494,1986,1040,2008,3194,1029,2153,1032,1872,1120,630,1054,1509,832,1828,2262,864,2614,980,1512,1790,1116,1422,1520,2080,1350,1750,1554,1411,1056,1056,3395,800,1387,796,1567,1518,1929,2704,1620,1766,981,1048,1094,1839,630,1665,1510,1716,1469,2113,1092,1053,1502,1458,1486,1935,2448,1392,1181,2097,1936,2380,1679,1437,1180,1476,1369,1208,1839,1136,1441,1774,792,2046,988,923,1520,1291,1668,1839,2090,1761,1102,1419,1362,848,4316,2519,1073,1539,1137,616,1148,894,1391,1800,1164,2576,1812,1484,1092,1824,1324,1456,904,729,1178,1228,960,1479,1350,2554,1178,2418,971,1742,848,864,1470,1698,864,1680,1232,1776,1208,1616,1146,2031,1144,948,1768,1040,1801,1200,1728,1432,912,1349,1464,1337,2715,2256,2640,1720,1529,1140,1320,1494,2098,1026,1471,1768,1386,1501,2531,864,1301,1547,2365,1494,1506,1714,1750,1836,3279,858,1220,1117,912,1973,1204,1614,894,2020,1004,1253,1603,1430,1110,1484,1342,1652,2084,901,2087,1145,1062,2013,1496,1895,1564,1285,773,3140,1768,1688,1196,1456,2822,1128,1428,980,1576,1086,2138,1309,848,1044,1442,1250,1661,1008,1689,1052,1358,1640,936,1733,1489,1489,2084,784,1434,2126,1223,1392,1200,1829,1516,1144,1067,1559,987,1099,1200,1482,1539,1165,1800,1416,1701,1775,864,2358,1855,848,1456,1646,1445,1779,1040,1026,1481,1370,2654,1426,1039,1097,1148,1372,1002,1646,1120,2320,1949,894,1682,910,1268,1131,2610,1040,2224,1155,864,1090,1717,1593,2230,892,1709,1712,1393,2217,1505,924,1683,1068,1383,1535,1796,951,2240,2364,1236,858,1306,1509,1670,902,1063,1636,2057,902,1484,2274,1268,1015,2002,1224,1092,480,1229,2127,1414,1721,2200,1316,1617,1686,1126,2374,1978,1788,2236,1466,925,1905,1500,2069,747,1200,1971,1962,2403,1728,2060,1440,1632,1344,1869,1144,1629,1776,1381,864,965,768,1968,980,1958,1229,1057,1337,1416,858,2872,1548,1800,1894,1484,1308,1098,968,1095,1192,1626,918,1428,2019,1382,869,1241,894,1121,999,2612,1266,2290,1734,1164,1635,1940,2030,1576,2392,1742,1851,1500,1718,1230,1050,1442,1077,1208,944,691,1574,1680,1504,985,1657,1092,1710,1522,1271,1664,1502,1022,1082,1665,1504,1360,1472,1506,1132,1220,1248,1504,2898,882,1264,1646,1376,1218,1928,3082,2520,1654,954,845,1620,2263,1344,630,1803,1632,1306,2329,2524,1733,2868,990,1771,930,1302,1316,1977,1526,1989,1523,1364,1850,2184,1991,1338,894,2337,1103,1154,2260,1571,1611,2521,893,1048,1556,1456,1426,1240,1740,1466,1096,848,990,1258,1040,1459,1251,1498,996,1092,1953,1709,1247,1040,1252,1694,1200,936,1314,1355,1088,1324,1601,438,950,1134,1194,1302,2622,1442,2021,1690,1836,1658,1964,816,1008,833,1734,1419,894,1601,1040,1012,1552,960,698,1482,1005,1555,1530,1959,936,1981,974,2210,2020,1600,986,1252,1020,1567,1167,952,1868,2828,1006,924,1576,1298,1564,1111,1482,932,1466,1811,816,1820,1437,1265,1314,1580,1876,1456,1640,894,1258,1432,1502,1694,1671,2108,3627,1118,1261,1250,3086,2345,2872,923,1224,1343,1124,2514,1652,4476,1130,1572,1221,1699,1624,1660,1804,1622,1441,1472,1224,1352,1456,1863,1690,1212,1382,864,1779,1348,1630,1074,2196,1056,1700,1283,1660,1845,1752,672,960,999,894,1902,1314,912,1218,912,1211,1846,2136,1490,1138,1933,912,1702,1507,2620,1190,1224,1188,1964,1784,1626,1948,1141,1484,1768,1689,1173,2076,1517,1868,1553,1034,2058,988,2110,1405,874,2167,1656,1367,1987,864,1166,1054,1675,1050,1788,1824,1337,1452,1889,2018,3447,1524,1524,1489,935,1357,1250,1920,1395,1724,2031,1128,1573,1339,1040,1824,2447,1412,1328,1582,1659,1970,1152,1302,2372,1664,864,1052,1128,1072,5642,1246,1983,1494,2526,1616,1708,1652,1368,990,1122,1294,1902,1274,2810,2599,948,2112,1630,1352,1787,948,1478,720,1923,708,1795,796,774,816,2792,1632,1588,954,816,1360,1365,1334,1656,693,1861,864,872,1114,2169,1913,1456,960,2156,1776,1494,2358,2634,1716,1176,3238,1865,1920,892,1078,1573,1980,2601,1530,1738,1412,1200,1674,1790,1475,848,1668,1374,1661,2097,2633,1958,1571,790,1604,987,1394,864,2117,1762,1416,1258,1154,2784,2526,1746,1218,1525,1584,900,1912,1500,2482,1687,1513,1904,1608,1158,1593,1294,1464,1214,1646,768,833,1363,2093,1840,1668,1040,1844,1848,1569,2290,2450,1144,1844,1416,1069,848,2201,1344,1252,2127,1558,804,1440,1838,958,968,1792,1126,1537,864,1932,1236,1725,2555,848,2007,952,1422,913,1188,2090,1346,630,1792,1578,1072,1140,1221,1647,2073,2340,1078,1256],\"mode\":\"markers\",\"type\":\"scatter\"}], {\"xaxis\":{\"title\":\"SalePrice\"},\"yaxis\":{\"title\":\"GrLivArea\"},\"title\":\"Scatter Plot\"});\n",
       "\t\t}if(window.Plotly){plot1522243172314();}else if(!window.require){\n",
       "\t\t\tvar head = document.head || document.getElementsByTagName('head')[0];\n",
       "\t\t\tvar s = document.createElement('script');\n",
       "\t\t\ts.src = 'https://cdn.plot.ly/plotly-latest.min.js';\n",
       "\t\t\ts.type = 'text/javascript';\n",
       "\t\t\ts.async = false;\n",
       "\t\t\ts.onreadystatechange = s.onload = plot1522243172314;\n",
       "\t\t\thead.appendChild(s);\n",
       "\t\t}else{\n",
       "\t\t\trequire(['https://cdn.plot.ly/plotly-latest.min.js'], function(Plotly){\n",
       "\t\t\t\twindow.Plotly = Plotly;\n",
       "\t\t\t\tplot1522243172314();\n",
       "\t\t\t});\n",
       "\t\t}\n",
       "\t\t</script>\n",
       "\t\t</div>\n",
       "\t"
      ]
     },
     "execution_count": 12,
     "metadata": {},
     "output_type": "execute_result"
    }
   ],
   "source": [
    "train.scatterPlot('SalePrice','GrLivArea').show();\n"
   ]
  },
  {
   "cell_type": "code",
   "execution_count": 13,
   "metadata": {
    "scrolled": true
   },
   "outputs": [
    {
     "data": {
      "text/html": [
       "\n",
       "\t<div class=\"plotly-plot\">\n",
       "\t\t<div id=\"notebook-plot-1522243196282\"></div>\n",
       "\t\t<script>\n",
       "\t\tfunction plot1522243196282(){\n",
       "\t\t\tPlotly.plot('notebook-plot-1522243196282',[{\"name\":1,\"y\":[61000,39300],\"type\":\"box\"},{\"name\":2,\"y\":[60000,35311,60000],\"type\":\"box\"},{\"name\":3,\"y\":[107400,85000,76500,126175,87500,120000,67000,52000,93500,37900,91000,82000,139600,81000,92900,95000,72500,79000,58500,105000],\"type\":\"box\"},{\"name\":4,\"y\":[90000,68500,40000,82000,113000,80000,129500,91000,135750,136500,123600,109900,94750,128950,100000,100000,115000,103200,140000,141000,107000,97000,141000,88000,82500,82000,134432,100000,150000,109008,81000,118000,256000,89471,86000,34900,106250,86000,111250,108000,108000,133000,118500,75500,84500,108000,137500,137500,87000,55000,102776,129000,124500,135000,120500,103000,98000,96500,102000,107900,109900,93000,128000,129000,132250,118500,106500,110000,75000,135000,79900,150000,135000,85500,110000,121600,88000,176000,84000,97000,80000,84900,83500,128000,112000,115000,135000,80000,108959,168000,148000,116050,107000,113000,145000,80500,101800,161500,68400,119000,111000,82500,55000,100000,52500,123000,108500,104900,105000,125500,125500,90000,122500,64500,120500,112000],\"type\":\"box\"},{\"name\":5,\"y\":[143000,118000,129500,144000,159000,139000,129900,154000,134800,207500,149350,165500,145000,153000,109000,170000,144000,130250,141000,127000,110000,130000,124900,101000,144900,127000,110000,126500,98600,163500,83000,118964,115000,115000,139000,155000,87000,150000,150750,180000,143000,166000,125000,105000,115000,122000,109500,127500,190000,128500,172500,100000,120000,127000,135000,153337,127000,110000,143900,98000,156000,134450,112000,125000,128200,110500,79000,145000,97000,130000,73000,179500,120500,124500,122000,135900,131000,152000,157000,149900,119900,87000,78000,119000,139000,228950,85000,95000,134000,130000,145000,147000,132000,162000,123000,148000,127000,81000,119000,106500,109000,129000,123000,169500,67000,108000,60000,145000,115000,126000,142000,113000,122500,90350,162900,188000,98000,110000,62383,124000,146500,132500,132500,147000,156000,175000,160000,115000,155000,91300,130000,120000,140000,124500,124500,164900,129900,96500,132000,107500,107500,158000,129500,125000,112500,113000,141000,121500,170000,108000,135960,142600,139000,118500,164500,131500,137000,143000,79500,138000,110000,217500,152000,225000,147000,135000,139900,135000,124000,139400,93000,85000,152000,98300,145500,167000,168000,109500,128500,159434,108480,141500,89000,123500,138500,140000,109900,157000,128500,110000,131400,108000,179000,132000,175000,100000,134900,114500,142500,144000,165500,139000,110000,175000,118000,135500,223500,159950,106000,55993,116000,137000,109500,185000,139950,153500,144000,130500,157500,141000,153900,171000,133500,170000,127000,131500,132500,148500,169000,109500,116000,133000,66500,148000,136500,157000,100000,145000,135500,122900,165000,118858,142953,135000,153000,125500,128000,131000,154300,143500,88000,145000,145900,175000,117500,143000,124900,143000,129000,119900,133900,172000,132000,116500,160000,135000,139000,126000,125000,136500,86000,136905,149900,102000,135000,100000,85000,87000,112500,167500,105000,160000,119750,155000,145000,115000,144500,90000,154000,135000,135000,91500,170000,138800,126000,133000,146000,129000,119500,135000,106000,129900,134500,117000,130000,140000,133700,118000,140000,93500,94000,144000,139000,197500,80000,149000,149900,218000,179900,129000,194000,200500,119500,154900,93000,120000,186700,104900,125000,117000,153500,140000,134500,125000,115000,134000,137900,147000,127000,190000,132500,142000,130000,138887,119000,130000,99900,128900,144000,137000,139000,137000,150500,190000,180500,119500,107500,115000,138500,155000,154000,138000,147000,130500,132500,125500,125000,135000,128500,200000,110000,149900,189000,127000,117000,167500,112000,124000,123000,160000,137500,138000,133000,112000,124000,144000,140000,119000,192140,160000,157900,92000,136000,145000,84500,142125,147500],\"type\":\"box\"},{\"name\":6,\"y\":[181500,157000,149000,160000,177000,114500,180500,158000,193500,153500,174000,164500,133900,204750,185000,205000,178000,190000,136900,217000,259500,176000,163990,180000,136000,153900,181000,84500,128000,155000,244000,231500,130000,190000,235000,125000,79000,162500,152000,215000,163000,184000,243000,211000,177000,148500,104000,171500,112000,149000,145000,186000,161750,200000,179900,106000,148000,94500,216500,89500,113000,120000,137000,140000,277000,173000,158000,207500,176000,151000,175500,185000,148000,139000,185000,179200,159000,153575,167000,142500,175000,158500,89500,165600,132000,145250,214500,192000,155000,140200,151500,157500,105900,140000,177500,173000,156000,118000,190000,159000,165000,172400,125000,179000,76000,240000,125000,215000,168000,115000,177000,149500,239000,215000,139000,175000,85400,79900,181000,116000,119000,110000,127500,190000,119500,110000,204000,188700,187000,148000,208900,164000,133000,172785,113000,147000,208300,134000,158000,211000,150000,159000,200624,175000,128000,210000,140000,185000,128000,120000,181900,118500,130000,140000,114504,151000,141000,148000,137500,183200,105500,240000,168500,165150,160000,153000,168500,144000,200000,143250,155000,155000,135000,88000,97500,110000,129000,193500,173500,103600,165000,257500,140000,148500,143000,173000,194700,141000,176000,130500,165000,143000,222000,142000,217000,156000,172500,158900,127500,160000,107000,162000,135000,175900,128000,161500,187500,146800,171000,143500,200000,181000,144500,157900,155000,139500,166000,167000,100000,140000,174900,240000,187000,131500,158000,147000,174000,250000,152000,200500,178000,149500,172500,154500,140000,174000,173733,176500,201000,169990,193000,207500,150900,137500,197500,127500,145000,124000,272000,155000,178900,140000,99500,117000,195000,187000,173900,185000,163500,165000,119200,118000,173000,196000,165000,180000,220000,110500,178000,167900,151400,154000,159500,155900,145000,160000,187500,147000,136500,176432,127000,159500,181000,188000,118400,117500,169000,102000,119000,196000,180000,124000,230000,120500,185000,146000,224000,173000,235000,171000,163000,239000,115000,165000,158000,176000,200000,189000,112000,91500,143000,145000,214000,142500,178000,169900,129500,127500,151000,181000,180500,181000,185750,177000,162000,197900,139000,169000,132500,143000,140000,177500,179200,206900,156500,256000,167900,155000,177000,171000,134900,177500,156932,144000,165500,91000,83000,237500,105000,136000,131000,163000,137450,120000,193000,140000,207000,223000,179900,127500,136500,274970,142000,182900,143750,186500,174000,149700,191000,149300,121000,129000,175000,210000],\"type\":\"box\"},{\"name\":7,\"y\":[208500,223500,140000,200000,129900,279500,132000,139400,239686,196500,140000,219500,180000,226000,225000,244000,185000,168500,214000,198900,169500,180000,383970,320000,226000,174000,171000,260000,204000,222500,141000,254900,320000,220000,183500,239000,200100,200000,173000,184000,192000,130000,311872,180500,277000,252678,210000,311500,167240,204900,290000,192500,185500,194500,205000,241500,180000,230000,220000,231500,241500,205000,201000,192000,228500,207500,164700,235000,239000,205000,295000,225000,375000,178000,188500,260000,260000,187500,301000,242000,207000,214000,202500,154000,190000,198500,219500,187750,213500,191000,241000,164990,280000,222000,228000,181134,206300,135000,275000,195400,212000,172500,210000,199900,280000,175500,155000,178740,167000,190000,155000,184000,226700,289000,161000,202665,265000,234000,315750,176000,188000,213250,133000,179665,229000,263000,284000,175000,234000,268000,214000,224500,170000,145000,146000,185900,194201,151000,221000,205000,82500,226000,205950,191000,149000,197900,221000,207500,227875,148800,335000,196000,140000,213000,302000,179540,159500,341000,194500,187500,222500,163000,190000,179000,236000,265979,260400,162000,179400,215200,196500,216837,221500,176000,187100,233000,160200,269790,194500,189000,227680,224900,224000,183000,225000,189000,147400,151000,237000,213000,164000,152000,189950,250580,236000,187500,180000,240000,250000,238000,176000,222000,190000,242000,184900,253000,239799,244400,214000,192500,185000,155000,214900,173000,182000,167500,165000,199900,178400,159895,197000,206000,181000,240000,203000,160000,213490,194000,191000,197000,230000,262280,176485,200141,185850,248000,328000,194000,219500,192000,137500,160000,157000,179900,274725,205000,212900,163900,174000,259000,215000,174500,116900,143000,201800,230000,233170,171900,250000,195000,189000,219210,144000,178000,197900,213000,271900,184000,175500,195000,224900,248328,170000,186500,244000,171750,294000,165400,190000,183900,122000,260000,227000,180000,162900,225000,232000,130000,202500,335000,203000,208900,190000,176500,200000,155835,262500,215000,235000,170000,260000,144152,216000,193000,274300,250000,157000,250000,235000,246578,193879,215000,230000,175900,271000,197000,179600,185000,266500],\"type\":\"box\"},{\"name\":8,\"y\":[250000,307000,325300,230000,256300,306000,179900,309000,249700,172500,202500,317000,245000,260000,250000,220000,230000,372402,269500,325624,228000,286000,315000,235000,274900,403000,318000,262500,235000,276000,266000,290000,244600,233230,267000,305900,270000,354000,324000,284000,202900,280000,340000,192000,245500,258000,339750,315000,210000,161000,263435,250000,212000,440000,251000,297000,430000,215000,178000,272000,248000,255500,316600,253293,369900,319000,275000,220000,359100,261500,305000,209500,264561,274000,345000,350000,402000,423000,230500,372500,392000,312500,361919,254000,189000,275000,236500,239900,180000,299800,275500,212000,290000,337000,270000,538000,395000,225000,271000,232600,215000,248900,303477,268000,255000,285000,236500,201000,270000,336000,255900,348000,168000,232000,227000,187500,287000,293077,310000,287000,278000,255000,213500,252000,197000,170000,325000,280000,318000,184100,239500,424870,235128,245350,285000,392500,262000,174000,290000,164000,229456,265900,230000,301500,381000,237000,278000,281000,290000,302000,295493,275000,147000,227000,228500,283463,122000,410000,232000,239000,281213,282922,275000,257000,340000,394617,240000,287090],\"type\":\"box\"},{\"name\":9,\"y\":[345000,277500,319900,385000,412500,501837,415298,360000,342643,377426,266000,437154,318061,394432,380000,326000,374000,446261,315000,325000,313000,314813,370878,285000,320000,264132,485000,582933,350000,328900,611657,320000,239000,395192,315500,556581,335000,367294,378500,325000,333168,315000,377500],\"type\":\"box\"},{\"name\":10,\"y\":[438780,475000,386250,426000,555000,402861,184750,325000,451950,755000,385000,337500,625000,745000,465000,160000,466500,310000],\"type\":\"box\"}], {\"xaxis\":{\"title\":\"OverallQual\"},\"yaxis\":{\"title\":\"SalePrice\"},\"title\":\"Box Plot\"});\n",
       "\t\t}if(window.Plotly){plot1522243196282();}else if(!window.require){\n",
       "\t\t\tvar head = document.head || document.getElementsByTagName('head')[0];\n",
       "\t\t\tvar s = document.createElement('script');\n",
       "\t\t\ts.src = 'https://cdn.plot.ly/plotly-latest.min.js';\n",
       "\t\t\ts.type = 'text/javascript';\n",
       "\t\t\ts.async = false;\n",
       "\t\t\ts.onreadystatechange = s.onload = plot1522243196282;\n",
       "\t\t\thead.appendChild(s);\n",
       "\t\t}else{\n",
       "\t\t\trequire(['https://cdn.plot.ly/plotly-latest.min.js'], function(Plotly){\n",
       "\t\t\t\twindow.Plotly = Plotly;\n",
       "\t\t\t\tplot1522243196282();\n",
       "\t\t\t});\n",
       "\t\t}\n",
       "\t\t</script>\n",
       "\t\t</div>\n",
       "\t"
      ]
     },
     "execution_count": 13,
     "metadata": {},
     "output_type": "execute_result"
    }
   ],
   "source": [
    "//train.boxPlot('OverallQual',(data)=>Math.log(data['SalePrice'])).show()\n",
    "train.boxPlot('OverallQual','SalePrice').show()"
   ]
  },
  {
   "cell_type": "markdown",
   "metadata": {},
   "source": [
    "In this example, each box represents all data points with a particular quality score, between 1 and 10. The line in the center of the box is the median. The bottom box border is the 25% percentile and the top box border is the 75% percentile. This gives us a good idea of where 50% of the data points are (inside the box). The whiskers represent the maximum and minimum values, excluding outliers. \n",
    "\n",
    "Outliers are data point that are significantly distant from the rest of the data (more than 1.5 X interquartile range above or underneath the box). They are rendered separately. You can see, data points with overall quality of 8 have 4 outliers, 3 above the top whisker and 1 underneath the bottom whisker. Read [here](http://www.physics.csbsju.edu/stats/box2.html) for a more detailed explanation of box plots."
   ]
  },
  {
   "cell_type": "code",
   "execution_count": null,
   "metadata": {},
   "outputs": [],
   "source": [
    "a = '123'"
   ]
  },
  {
   "cell_type": "code",
   "execution_count": null,
   "metadata": {},
   "outputs": [],
   "source": [
    "// show shift-tab inspection\n",
    "train.show"
   ]
  },
  {
   "cell_type": "code",
   "execution_count": 14,
   "metadata": {},
   "outputs": [
    {
     "data": {
      "image/svg+xml": [
       "<svg width=\"100\" height=\"100\">  <circle cx=\"50\" cy=\"50\" r=\"40\" stroke=\"green\" stroke-width=\"4\" fill=\"yellow\" /></svg>"
      ]
     },
     "execution_count": 14,
     "metadata": {},
     "output_type": "execute_result"
    }
   ],
   "source": [
    "// Native svg rendering\n",
    "$$.svg('<svg width=\"100\" height=\"100\">  <circle cx=\"50\" cy=\"50\" r=\"40\" stroke=\"green\" stroke-width=\"4\" fill=\"yellow\" /></svg>')"
   ]
  },
  {
   "cell_type": "code",
   "execution_count": null,
   "metadata": {},
   "outputs": [],
   "source": []
  }
 ],
 "metadata": {
  "anaconda-cloud": {},
  "kernelspec": {
   "display_name": "Javascript (Node.js)",
   "language": "javascript",
   "name": "javascript"
  },
  "language_info": {
   "file_extension": ".js",
   "mimetype": "application/javascript",
   "name": "javascript",
   "version": "8.7.0"
  }
 },
 "nbformat": 4,
 "nbformat_minor": 2
}
